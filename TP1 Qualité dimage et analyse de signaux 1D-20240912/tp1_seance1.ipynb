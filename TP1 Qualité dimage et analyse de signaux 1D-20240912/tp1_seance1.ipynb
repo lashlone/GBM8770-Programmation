{
 "cells": [
  {
   "cell_type": "markdown",
   "metadata": {},
   "source": [
    "<h1 style=\"text-align: center; font-family: Arial\"> TP 1 - Séance 1 </h1>\n",
    "<h2 style=\"text-align: center; font-family: Arial\"> Qualité d'image </h2>"
   ]
  },
  {
   "cell_type": "markdown",
   "metadata": {},
   "source": [
    "Équipe #2\n",
    "- Beaudry, Sophie (2140839)\n",
    "- Lachapelle, Vincent (2206192)"
   ]
  },
  {
   "cell_type": "code",
   "execution_count": 45,
   "metadata": {},
   "outputs": [],
   "source": [
    "# Importation des modules utilisés dans le laboratoire.\n",
    "import numpy as np\n",
    "from IPython.display import clear_output\n",
    "import matplotlib.pyplot as plt\n",
    "from matplotlib.pyplot import imread\n",
    "\n",
    "%matplotlib inline\n",
    "# Modification de la taille des figures par défault\n",
    "plt.rcParams[\"figure.figsize\"] = (12, 7)"
   ]
  },
  {
   "cell_type": "markdown",
   "metadata": {},
   "source": [
    "<span style='color: red;'> Attention : Lisez également le fichier Énoncé TP1.pdf que nous vous donnons. Il contient les questions du TP mais également des informations supplémentaires et astuces pour vous aider.  \n",
    "</span>"
   ]
  },
  {
   "cell_type": "markdown",
   "metadata": {},
   "source": [
    "# Exercice I: Étude de la résolution\n",
    "## Mise en place des fonctions\n",
    "\n",
    "<span style='color: red;'> Attention : tous les fichiers et les images dont vous aurez besoin pour cette séance sont dans le dossier 'fichiers_seance_1'. Vos chemins devront être ajustés en conséquence. \n",
    "</span>"
   ]
  },
  {
   "cell_type": "markdown",
   "metadata": {},
   "source": [
    "**1.** Ouvrez et affichez l'image ```brain_tumor.jpg```. "
   ]
  },
  {
   "cell_type": "code",
   "execution_count": null,
   "metadata": {},
   "outputs": [],
   "source": [
    "img = imread(\"fichiers_seance_1/brain_tumor.jpg\")\n",
    "plt.imshow(img, cmap=\"gray\", vmin=0, vmax=255)\n",
    "plt.show()"
   ]
  },
  {
   "cell_type": "markdown",
   "metadata": {},
   "source": [
    "**2.** Déterminez graphiquement la largeur approximative de la tumeur en pixel (selon l'axe transversal).\n",
    "\n",
    "Affichez cette largeur sous forme d'une ligne pointillée délimitée par deux points, avec la fonction ```ax.plot(x, y)```. "
   ]
  },
  {
   "cell_type": "code",
   "execution_count": null,
   "metadata": {},
   "outputs": [],
   "source": [
    "fig, ax = plt.subplots(1, 1)\n",
    "ax.imshow(img, cmap=\"gray\", vmin=0, vmax=255)\n",
    "ax.plot([170, 225], [165, 165], linewidth=1.5, color=\"red\", linestyle=\"dashed\",marker=\"o\", markersize=3)\n",
    "ax.grid(True, which='both')\n",
    "ax.set_xticks(np.arange(0, 251, 25));\n",
    "ax.set_xticks(np.arange(0, 251, 5), minor=True);\n",
    "ax.set_yticks(np.arange(0, 301, 25));\n",
    "ax.set_yticks(np.arange(0, 301, 5), minor=True);"
   ]
  },
  {
   "cell_type": "markdown",
   "metadata": {},
   "source": [
    "On peut lire graphiquement que la largeur de la tumeur est de 225-165=60 pixels"
   ]
  },
  {
   "cell_type": "markdown",
   "metadata": {},
   "source": [
    "**3.** Définissez la méthode ```taillePixel(x0, y0, x1, y1, ref)``` qui calcule la taille physique d'un pixel en millimètre."
   ]
  },
  {
   "cell_type": "code",
   "execution_count": 48,
   "metadata": {},
   "outputs": [],
   "source": [
    "def taille_pixel(x0: int, y0: int, x1: int, y1: int, ref: float) -> float:\n",
    "    \"\"\"Calcule la taille d'un pixel en fonction des coordonnées d'un objet et sa taille de référence. On suppose que l'élément de référence est au centre du pixel.\n",
    "    @param x0 :  La coordonnée x du point 0\n",
    "    @param y0 :  La coordonnée y du point 0\n",
    "    @param x1 : La coordonnée x du point 1\n",
    "    @param y1 : La coordonnée y du point 1\n",
    "    @param ref : La taille physique en mm de l'objet défini par les points 0 et 1\n",
    "    @return    La taille physique d'un pixel en millimètre\n",
    "    \"\"\"\n",
    "    \n",
    "    # La distance entre le centre des deux points (en pixels) est calculée par le théorème de Pythagore.  \n",
    "    distance = np.sqrt((x1 - x0)**2.0 + (y1 - y0)**2.0)\n",
    "    return ref/distance"
   ]
  },
  {
   "cell_type": "markdown",
   "metadata": {},
   "source": [
    "**4.** La largeur de la tumeur est de 3 cm. Déduisez la largeur d'un pixel en millimètre."
   ]
  },
  {
   "cell_type": "code",
   "execution_count": null,
   "metadata": {},
   "outputs": [],
   "source": [
    "pixel_tumeur = taille_pixel(170, 165, 225, 165, 30)\n",
    "print(f\"La taille d'un pixel sur l'image est de {pixel_tumeur:.4f} mm.\")"
   ]
  },
  {
   "cell_type": "markdown",
   "metadata": {},
   "source": [
    "**5.** Définissez la méthode ```downsample(img, f)```."
   ]
  },
  {
   "cell_type": "code",
   "execution_count": 50,
   "metadata": {},
   "outputs": [],
   "source": [
    "def downsample(img: np.ndarray, f: int) -> np.ndarray:\n",
    "    \"\"\"Sous-échantillone l'image img d'un facteur f.\n",
    "    @param img :  L'image à sous-échantilloner.\n",
    "    @param f :    Le facteur de sous-échantillonage (un pixel sur f est conservé).\n",
    "    @return       L'image sous-échantillonée: sa taille est celle d'img divisée par f.\n",
    "    \"\"\"\n",
    "   \n",
    "    return  img[::f, ::f, :]"
   ]
  },
  {
   "cell_type": "markdown",
   "metadata": {},
   "source": [
    "**6.** Affichez l'image de la tumeur sous-échantillonnée avec ```f=2, 3, 4```. Affichez le facteur de downsampling ainsi que la taille de l'image downsamplée dans le titre de la figure. Comment évolue la largeur d'un pixel lors du sous-échantillonage? Donnez un avantage et un inconvénient de l'utilisation d'une image médicale downsamplée plutôt que l'image pleine résolution. "
   ]
  },
  {
   "cell_type": "code",
   "execution_count": null,
   "metadata": {},
   "outputs": [],
   "source": [
    "# Liste des fréquences de sous-échantillonage utilisées\n",
    "frequencies = [2, 3, 4]\n",
    "\n",
    "fig, axes = plt.subplots(3, 1)\n",
    "fig.tight_layout(h_pad=2.0)\n",
    "\n",
    "for f, axe in zip(frequencies, axes):\n",
    "    downsampled_img = downsample(img, f)\n",
    "    axe.set_title(f\"Image sous-échantillonée d'un facteur {f} (img.shape = ({downsampled_img.shape}))\")\n",
    "    axe.imshow(downsampled_img, cmap=\"gray\", vmin=0, vmax=255)\n",
    "    axe.grid(True, which='both')\n",
    "    axe.set_xticks(np.arange(0, 251/f, 25));\n",
    "    axe.set_yticks(np.arange(0, 301/f, 25));"
   ]
  },
  {
   "cell_type": "markdown",
   "metadata": {},
   "source": [
    "La taille d'un pixel augmente lorsqu'on sous-échantillonne une image, car la même réalité est numérisée par moins d'éléments. L'avantage de sous-échantillonner est que les images prennent moins de mémoire, ce qui permet d'en enmagasiner davantage et de les rendre plus facilement manipulables. En contrepartie, on perd de la qualité d'image, ce qui peut les rendre plus difficiles à analyser dans certains contextes.\n"
   ]
  },
  {
   "cell_type": "markdown",
   "metadata": {},
   "source": [
    "## Calibration d'un IRM"
   ]
  },
  {
   "cell_type": "markdown",
   "metadata": {},
   "source": [
    "**7.** Ouvrez et affichez l'image ```resolution.png```. Affichez l'image en niveau de gris, cachez les axes et ajoutez un titre. Par dessus l'image, dessinez des lignes pointillées le long des mires verticales et horizontales. Affichez une légende pour les lignes. "
   ]
  },
  {
   "cell_type": "code",
   "execution_count": null,
   "metadata": {
    "tags": []
   },
   "outputs": [],
   "source": [
    "resolution= imread(\"fichiers_seance_1/resolution.png\")\n",
    "\n",
    "fig, ax = plt.subplots(1, 1)\n",
    "ax.set_title(\"Caractéristiques des mires de l'IRM\")\n",
    "img_data = ax.imshow(resolution, cmap=\"gray\", vmin=0.0, vmax=1.0)\n",
    "ax.set_axis_off()\n",
    "ax.plot([200, 200], [201, 341], label=\"profil vertical\", linestyle=\"dashed\", color=\"purple\")\n",
    "ax.plot([206, 346], [190, 190], label=\"profil horizontal\", linestyle=\"dashed\", color=\"yellow\")\n",
    "ax.legend();"
   ]
  },
  {
   "cell_type": "markdown",
   "metadata": {},
   "source": [
    "**8.** La largeur du cube central est de 10 cm. Déduisez la largeur d'un pixel en millimètre."
   ]
  },
  {
   "cell_type": "code",
   "execution_count": null,
   "metadata": {
    "tags": []
   },
   "outputs": [],
   "source": [
    "pixel_IRM = taille_pixel(160, 151, 356, 157, 100)\n",
    "print(f\"La taille d'un pixel sur l'image est de {pixel_IRM:.4f} mm.\")"
   ]
  },
  {
   "cell_type": "markdown",
   "metadata": {},
   "source": [
    "**9.** Quelle est la relation entre la largeur d'un pixel et la taille du plus petit objet observable ? Selon cette relation, quelle serait la taille du plus petit objet observable dans cette image ?\n",
    "\n"
   ]
  },
  {
   "cell_type": "markdown",
   "metadata": {},
   "source": [
    "Par définition de la résolution de notre système, la taille du plus petit objet observable est égale à la taille d'un pixel. Plus les pixels sont petits, plus on peut distinguer des détails fins sur une image. Ainsi, la taille du plus petit objet observable est de 0.5100 mm. "
   ]
  },
  {
   "cell_type": "markdown",
   "metadata": {},
   "source": [
    "**10.** Afin de vérifier cette relation, affichez les profils d'intensités le long d'axes perpendiculaires aux mires. Utilisez la distance en millimètres comme abscisses. \n",
    "\n",
    "Quelle est l'épaisseur des plus petites mires observables? Fiez-vous au tableau 1 et à la figure 3 de l'énoncé. \n",
    "\n",
    "Est-ce cohérent avec votre réponse donnée à la question **9** ?"
   ]
  },
  {
   "cell_type": "code",
   "execution_count": null,
   "metadata": {},
   "outputs": [],
   "source": [
    "intensite_pixel_vertical = resolution[201:341, 200]\n",
    "intensite_pixel_horizontal = resolution[190, 206:346]\n",
    "\n",
    "fig, [ax_vertical, ax_horizontal] = plt.subplots(2, 1)\n",
    "fig.tight_layout(h_pad=4)\n",
    "\n",
    "ax_vertical.set_title(\"Intensité des objets pour le profilage vertical à la position horizontale x=200\")\n",
    "ax_vertical.plot(range(201, 341), intensite_pixel_vertical)\n",
    "ax_vertical.set_ylabel(\"Intensité lumineuse\")\n",
    "ax_vertical.set_xlabel(\"Coordonnées en Y du pixel sur le profile vertical\")\n",
    "ax_horizontal.plot(range(206, 346), intensite_pixel_horizontal)\n",
    "ax_horizontal.set_title(\"Intensité des objets pour le profilage horizontal à la position verticale y=190\")\n",
    "ax_horizontal.set_ylabel(\"Intensité lumineuse\")\n",
    "ax_horizontal.set_xlabel(\"Coordonnées en X du pixel sur le profile horizontal\");"
   ]
  },
  {
   "cell_type": "markdown",
   "metadata": {},
   "source": [
    "On peut distinguer les mires jusqu'à ce que leur épaisseur soit de 0,5 mm, représentée par la première zone de fluctuation du deuxième graphique, ce qui concorde avec la mesure d'un pixel trouvée précédement."
   ]
  },
  {
   "cell_type": "markdown",
   "metadata": {},
   "source": [
    "## Mesure de l'épaisseur de coupe"
   ]
  },
  {
   "cell_type": "markdown",
   "metadata": {},
   "source": [
    "**11.** Affichez les profils d'intensités des 4 rampes et mesurer graphiquement la largeur des gaussiennes à mi-hauteur. \n",
    "\n",
    "(Affichez les grilles sur les graphiques et augmenter la fréquence des ticks et la taille de l'image devraient faciliter la mesure)."
   ]
  },
  {
   "cell_type": "code",
   "execution_count": null,
   "metadata": {},
   "outputs": [],
   "source": [
    "# Définition des listes d'intensité\n",
    "intensite_pixel_rampe_N = resolution[140, 230:290]\n",
    "intensite_pixel_rampe_S = resolution[360, 210:270]\n",
    "intensite_pixel_rampe_E = resolution[230:290, 365]\n",
    "intensite_pixel_rampe_O = resolution[215:275, 147]\n",
    "\n",
    "# Normalisation\n",
    "intensite_pixel_rampe_N = [value/max(intensite_pixel_rampe_N) for value in intensite_pixel_rampe_N]\n",
    "intensite_pixel_rampe_S = [value/max(intensite_pixel_rampe_S) for value in intensite_pixel_rampe_S]\n",
    "intensite_pixel_rampe_E = [value/max(intensite_pixel_rampe_E) for value in intensite_pixel_rampe_E]\n",
    "intensite_pixel_rampe_O = [value/max(intensite_pixel_rampe_O) for value in intensite_pixel_rampe_O]\n",
    "\n",
    "# Mise en page de la figure et des axes\n",
    "fig, axes = plt.subplots(2, 2)\n",
    "fig.tight_layout(h_pad=4.0, w_pad=2.0)\n",
    "\n",
    "for column in axes:\n",
    "    for axe in column:\n",
    "        axe.set_yticks(np.arange(0.0, 1.1, 0.1));\n",
    "        axe.grid(True, which='both')\n",
    "        axe.set_ylabel(\"Intensité lumineuse\")\n",
    "        axe.set_xlabel(\"Position du pixel par rapport à son axe\")\n",
    "\n",
    "# Création des graphiques\n",
    "axes[0, 0].set_title(\"Intensité de la rampe nord\")\n",
    "axes[0, 0].plot(range(230, 290), intensite_pixel_rampe_N)\n",
    "axes[0, 1].set_title(\"Intensité de la rampe sud\")\n",
    "axes[0, 1].plot(range(210, 270), intensite_pixel_rampe_S)\n",
    "axes[1, 0].set_title(\"Intensité de la rampe est\")\n",
    "axes[1, 0].plot(range(230, 290), intensite_pixel_rampe_E)\n",
    "axes[1, 1].set_title(\"Intensité de la rampe ouest\")\n",
    "axes[1, 1].plot(range(215, 275), intensite_pixel_rampe_O);"
   ]
  },
  {
   "cell_type": "markdown",
   "metadata": {},
   "source": [
    "La largeur des gaussiennes à mi-hauteur sont de 18 pixels pour la rampe nord et sud, 17 pixels pour la rampe est et 18 pixels pour la rampe ouest. Ces valeurs sont obtenues en mesurant graphiquement la distance entre les deux point à 0,5 d'intensité lumineuse."
   ]
  },
  {
   "cell_type": "markdown",
   "metadata": {
    "tags": []
   },
   "source": [
    "**12.** L'épaisseur de la coupe est donnée par $e=\\tan(14^\\circ) \\times FWHM$ où $FWHM$ est la largeur à mi-hauteur en mm. Sachant que les paramètres de l'IRM indiquent une épaisseur de coupe théorique de $2\\pm0.3$ mm, passerait-il le controle qualité?"
   ]
  },
  {
   "cell_type": "code",
   "execution_count": null,
   "metadata": {
    "tags": []
   },
   "outputs": [],
   "source": [
    "# Conversion des lectures graphiques en mm avec le facteur calculé à la question 8\n",
    "largeur_nord = (267 - 250 + 1) * pixel_IRM\n",
    "largeur_sud = (252 - 235 + 1) * pixel_IRM\n",
    "largeur_est = (269 - 253 + 1) * pixel_IRM\n",
    "largeur_ouest = (255 - 238 + 1) * pixel_IRM\n",
    "\n",
    "# Calcul de l'épaisseur de coupe moyen et son erreur standard\n",
    "largeurs = np.array([largeur_nord, largeur_sud, largeur_est, largeur_ouest])\n",
    "epaisseur_moyenne = np.tan(14 * np.pi/180) * np.mean(largeurs)\n",
    "erreur_standard_epaisseur = np.tan(14 * np.pi/180) * np.std(largeurs)\n",
    "print(f\"L'épaisseur de la coupe de l'IRM est de {epaisseur_moyenne:.2f} ± {erreur_standard_epaisseur:.2f} mm.\")"
   ]
  },
  {
   "cell_type": "markdown",
   "metadata": {},
   "source": [
    "L'IRM ne passerait pas le contrôle qualité, car les valeurs que nous avons mesurées sont entre 2.2 et 2.32 mm tandis que les valeurs admises sont entre 1.7 et 2.3. L'extremum de la valeur mesurée expérimentalement est en dehors des valeurs admissibles, ce qui indique que l'IRM ne passe pas le contrôle qualité."
   ]
  },
  {
   "cell_type": "markdown",
   "metadata": {},
   "source": [
    "# Exercice II: Analyse du contraste et du bruit\n",
    "## Mesure du contraste"
   ]
  },
  {
   "cell_type": "code",
   "execution_count": 57,
   "metadata": {},
   "outputs": [],
   "source": [
    "# Modification de la taille des figures par défault\n",
    "plt.rcParams[\"figure.figsize\"] = (20, 7)"
   ]
  },
  {
   "cell_type": "markdown",
   "metadata": {},
   "source": [
    "**1.** Chargez  et affichez l'image ```oct.png```."
   ]
  },
  {
   "cell_type": "code",
   "execution_count": null,
   "metadata": {},
   "outputs": [],
   "source": [
    "macula = imread(\"fichiers_seance_1/oct.png\")\n",
    "plt.imshow(macula, cmap=\"gray\", vmin=0.0, vmax=1.0)\n",
    "plt.show()\n"
   ]
  },
  {
   "cell_type": "markdown",
   "metadata": {},
   "source": [
    "**2.** Chargez  et affichez les segmentations ```mask_choroid_left.npy```, ```mask_choroid_right.npy```, ```mask_rpe_left.npy```, ```mask_rpe_right.npy``` et ```mask_onh.npy```."
   ]
  },
  {
   "cell_type": "code",
   "execution_count": null,
   "metadata": {},
   "outputs": [],
   "source": [
    "# Chargement des masques\n",
    "choro_left=np.load(\"fichiers_seance_1/mask_choroid_left.npy\")\n",
    "choro_right=np.load(\"fichiers_seance_1/mask_choroid_right.npy\")\n",
    "rpe_left=np.load(\"fichiers_seance_1/mask_rpe_left.npy\")\n",
    "rpe_right=np.load(\"fichiers_seance_1/mask_rpe_right.npy\")\n",
    "onh=np.load(\"fichiers_seance_1/mask_onh.npy\")\n",
    "\n",
    "# Affichage des masques\n",
    "for img, title in [(choro_left, \"la choroide gauche\"), (choro_right,  \"la choroide droite\"), (rpe_left, \"la rétine gauche\"), (rpe_right, \"la rétine droite\"), (onh, \"le nerf optique\")]:\n",
    "    fig, ax = plt.subplots()\n",
    "    ax.set_title(f\"Masque pour {title}\")\n",
    "    ax.imshow(img)"
   ]
  },
  {
   "cell_type": "markdown",
   "metadata": {},
   "source": [
    "**3.** Regrouper les segmentations de la choroide et de la RPE en un seul masque par région (1 masque pour la choroide, gauche et droite, etc.). Affichez les segmentations regroupées."
   ]
  },
  {
   "cell_type": "code",
   "execution_count": null,
   "metadata": {},
   "outputs": [],
   "source": [
    "# Jumelage des masques avec l'opérateur logique OR\n",
    "choroide = choro_left | choro_right\n",
    "retina =  rpe_left | rpe_right\n",
    "\n",
    "# Affichage des masques jumellés\n",
    "for img, title in [(choroide, \"portion choroide\"), (retina,  \"portion rétine\")]:\n",
    "    fig, ax = plt.subplots()\n",
    "    ax.set_title(f\"Masque pour la {title}\")\n",
    "    ax.imshow(img)"
   ]
  },
  {
   "cell_type": "markdown",
   "metadata": {},
   "source": [
    "**4.** Utilisez le masque  ```mask_retina.npy ``` pour définir un masque du fond de l'image (et pas de la rétine)."
   ]
  },
  {
   "cell_type": "code",
   "execution_count": null,
   "metadata": {},
   "outputs": [],
   "source": [
    "# Création du masque fond en prenant l'inverse de la rétine. \n",
    "fond = np.logical_not(np.load(\"fichiers_seance_1/mask_retina.npy\"))\n",
    "\n",
    "# Affichage du masque généré\n",
    "fig, ax = plt.subplots()\n",
    "ax.set_title(f\"Masque inverse de la rétine\")\n",
    "ax.imshow(fond);"
   ]
  },
  {
   "cell_type": "markdown",
   "metadata": {},
   "source": [
    "**5.** Calculez l'intensité moyenne sur ces 3 régions (choroide, RPE et tête du nerf optique) et sur le fond de l'image. En déduire le contraste entre chaque région et le fond de l'image OCT. Quelle est la zone de la rétine où le contraste est le meilleur ?"
   ]
  },
  {
   "cell_type": "code",
   "execution_count": null,
   "metadata": {
    "tags": []
   },
   "outputs": [],
   "source": [
    "# Calcul des intensitées moyennes en appliquant le masque à l'image      \n",
    "intensite_moyenne_choroide = np.mean([macula[i, j] for i in range(macula.shape[0]) for j in range(macula.shape[1]) if choroide[i, j]])\n",
    "intensite_moyenne_retina = np.mean([macula[i, j] for i in range(macula.shape[0]) for j in range(macula.shape[1]) if retina[i,j]])\n",
    "intensite_moyenne_onh = np.mean([macula[i, j] for i in range(macula.shape[0]) for j in range(macula.shape[1]) if onh[i, j]])\n",
    "intensite_moyenne_fond = np.mean([macula[i, j] for i in range(macula.shape[0]) for j in range(macula.shape[1]) if fond[i, j]])\n",
    "\n",
    "# Calcul des contrastes\n",
    "contraste_choroide = (intensite_moyenne_choroide - intensite_moyenne_fond)/intensite_moyenne_fond\n",
    "contraste_retina = (intensite_moyenne_retina - intensite_moyenne_fond)/intensite_moyenne_fond\n",
    "contraste_onh = (intensite_moyenne_onh - intensite_moyenne_fond)/intensite_moyenne_fond\n",
    "\n",
    "print(f\"L'intensité moyenne de la choroide est {intensite_moyenne_choroide:.2f}, celle de la région RPE (rétine) est {intensite_moyenne_retina:.2f}, celle du nerf est {intensite_moyenne_onh:.2f} et celle du fond est {intensite_moyenne_fond:.2f}.\")\n",
    "print(f\"Ainsi, le contraste de la choroide est de {contraste_choroide:.2f}, celle de la région RPE (rétine) est de {contraste_retina:.2f} alors que celle du nerf optique est de {contraste_onh:.2f}.\")   "
   ]
  },
  {
   "cell_type": "markdown",
   "metadata": {},
   "source": [
    "On remarque que la contraste est meilleure dans la région RPE (rétine) avec un contraste de 6,53."
   ]
  },
  {
   "cell_type": "markdown",
   "metadata": {},
   "source": [
    "## Mesure du Rapport Contraste/Bruit"
   ]
  },
  {
   "cell_type": "markdown",
   "metadata": {},
   "source": [
    "**6.** Ouvrez et affichez les images ```oct.png```, ```oct_2.png```,  ```oct_3.png```, ```oct_4.png```, ```oct_5.png```. "
   ]
  },
  {
   "cell_type": "code",
   "execution_count": null,
   "metadata": {},
   "outputs": [],
   "source": [
    "plt.rcParams[\"figure.figsize\"] = (30, 10)\n",
    "oct_1 = imread(\"fichiers_seance_1/oct.png\")\n",
    "oct_2 = imread(\"fichiers_seance_1/oct_2.png\")\n",
    "oct_3 = imread(\"fichiers_seance_1/oct_3.png\")\n",
    "oct_4 = imread(\"fichiers_seance_1/oct_4.png\")\n",
    "oct_5 = imread(\"fichiers_seance_1/oct_5.png\")\n",
    "octs = [oct_1, oct_2, oct_3, oct_4, oct_5]\n",
    "\n",
    "for i, img in enumerate(octs):\n",
    "    if i == 0:\n",
    "        plt.title(\"Image de oct\")\n",
    "    else:\n",
    "        plt.title(f\"Image de oct_{i + 1}\")\n",
    "    plt.imshow(img, cmap=\"gray\", vmin=0.0, vmax=1.0)\n",
    "    plt.show()"
   ]
  },
  {
   "cell_type": "markdown",
   "metadata": {},
   "source": [
    "**7.** En utilisant la segmentation de la rétine et la segmentation de la région avec le plus grand contraste (question précédente), calculez le CNR en décibel sur ces 5 images. "
   ]
  },
  {
   "cell_type": "code",
   "execution_count": null,
   "metadata": {},
   "outputs": [],
   "source": [
    "for k, img in enumerate(octs):\n",
    "    img_retina = [img[i, j] for i in range(img.shape[0]) for j in range(img.shape[1]) if retina[i,j]]\n",
    "    img_fond = [img[i, j] for i in range(img.shape[0]) for j in range(img.shape[1]) if fond[i,j]]\n",
    "\n",
    "    intensite_moyenne_retina = np.mean(img_retina)\n",
    "    intensite_moyenne_fond = np.mean(img_fond)\n",
    "    ecart_type_fond = np.std(img_fond)\n",
    "\n",
    "    cnr = (intensite_moyenne_retina - intensite_moyenne_fond)/ecart_type_fond\n",
    "    cnr_dB = 20*np.log10(cnr)\n",
    "\n",
    "    if k == 0:\n",
    "        print(f\"Le CNR en décibels de l'image oct est de {cnr_dB:.4f}.\")\n",
    "    else:\n",
    "        print(f\"Le CNR en décibels de l'image oct_{k + 1} est de {cnr_dB:.4f}.\")"
   ]
  },
  {
   "cell_type": "markdown",
   "metadata": {},
   "source": [
    "**8.** Calculer une image moyenne de ces 5 images, qui sera une estimation de l'image OCT débruitée. Affichez côte à côte une des images originale et l'image moyennée. Quelles différences remarquez-vous ?"
   ]
  },
  {
   "cell_type": "code",
   "execution_count": null,
   "metadata": {},
   "outputs": [],
   "source": [
    "img_moyenne = sum(octs)/len(octs)\n",
    "\n",
    "fig, [ax_moyenne, ax_original] = plt.subplots(1, 2)\n",
    "fig.set_figwidth(20)\n",
    "fig.tight_layout(w_pad=2.0)\n",
    "\n",
    "ax_moyenne.set_title(\"Image moyenne\")\n",
    "ax_moyenne.imshow(img_moyenne, cmap=\"gray\", vmin=0.0, vmax=1.0)\n",
    "ax_original.set_title(\"Image de référence (oct)\")\n",
    "ax_original.imshow(octs[0]);"
   ]
  },
  {
   "cell_type": "markdown",
   "metadata": {},
   "source": [
    "L'image de référence est plus pixelisée et les contours de l'image moyenne sont plus lisses."
   ]
  },
  {
   "cell_type": "markdown",
   "metadata": {},
   "source": [
    "**9.** Calculer le CNR sur une des images originales, l'image moyennée calculée à la question précédente, et sur l'image ```ave.png``` fournie. Affichez les trois images côte-à-côte et comparez leurs CNRs. Quelle image obtient le CNR le plus élevé ? "
   ]
  },
  {
   "cell_type": "code",
   "execution_count": null,
   "metadata": {},
   "outputs": [],
   "source": [
    "ave = imread(\"fichiers_seance_1/ave.png\")\n",
    "imgs = [img_moyenne, octs[0], ave]\n",
    "titles = [\"Image moyenne\", \"Image de référence (oct)\", \"Image ave fournie\"]\n",
    "\n",
    "fig, axes = plt.subplots(3)\n",
    "fig.tight_layout(h_pad=3.0)\n",
    "for title, img, axe in zip(titles, imgs, axes):\n",
    "    img_retina = [img[i, j] for i in range(img.shape[0]) for j in range(img.shape[1]) if retina[i,j]]\n",
    "    img_fond = [img[i, j] for i in range(img.shape[0]) for j in range(img.shape[1]) if fond[i,j]]\n",
    "\n",
    "    intensite_moyenne_retina = np.mean(img_retina)\n",
    "    intensite_moyenne_fond = np.mean(img_fond)\n",
    "    ecart_type_fond = np.std(img_fond)\n",
    "\n",
    "    cnr = (intensite_moyenne_retina - intensite_moyenne_fond)/ecart_type_fond\n",
    "    cnr_dB = 20*np.log10(cnr)\n",
    "\n",
    "    axe.set_title(f\"{title} avec un CNR en dB de {cnr_dB:.4f}\")\n",
    "    axe.imshow(img, cmap=\"gray\", vmin=0.0, vmax=1.0)"
   ]
  },
  {
   "cell_type": "markdown",
   "metadata": {},
   "source": [
    "C'est l'image ave fournie qui a le plus grand CNR et c'est aussi celle qui a la meilleure résolution."
   ]
  },
  {
   "cell_type": "markdown",
   "metadata": {},
   "source": [
    "**10.** Que pouvez-vous conclure sur la technique de moyennage comme technique de débruitage ? (Pourriez-vous utiliser la technique de moyennage en tout temps ? Quelles conditions doivent être respectées pour que la technique fonctionne bien ?)"
   ]
  },
  {
   "cell_type": "markdown",
   "metadata": {},
   "source": [
    "On remarque que le bruit a diminué entre l'image originale et l'image moyennée. Par contre, pour que cette technique soit efficace, il faut que les images soient exactement de même dimension et que les structures dans les images soient fixes afin d'éviter l'apparition d'artéfacts de mouvement, ce qui n'est pas nécessairement le cas lors d'utilisations cliniques des instruments de mesure."
   ]
  },
  {
   "cell_type": "markdown",
   "metadata": {},
   "source": [
    "**11.** Que représente le rapport contraste/bruit? Est-il préférable d'avoir un CNR faible ou fort? \n",
    "\n"
   ]
  },
  {
   "cell_type": "markdown",
   "metadata": {},
   "source": [
    "Il représente le ratio entre la différence d'intensité de l'image cible et son fond par rapport à l'écart type du fond qui représente le bruit. Il est préférable d'avoir un CNR élevé, ce qui indique que le bruit devient négligeable par rapport au contraste."
   ]
  },
  {
   "cell_type": "markdown",
   "metadata": {},
   "source": [
    "**12.** Nommez un avantage de calculer le rapport contraste/bruit par rapport au rapport signal/bruit. "
   ]
  },
  {
   "cell_type": "markdown",
   "metadata": {},
   "source": [
    "Il est déjà difficile de distinguer le signal du fond sur une image dont le contraste est faible. Ainsi, l'impact du bruit y est beaucoup plus important. Le marqueur CNR est donc un meilleur indicatif de la qualité de l'image que le marqueur SNR, puisqu'il tient compte de cette difficulté. "
   ]
  }
 ],
 "metadata": {
  "kernelspec": {
   "display_name": ".venv",
   "language": "python",
   "name": "python3"
  },
  "language_info": {
   "codemirror_mode": {
    "name": "ipython",
    "version": 3
   },
   "file_extension": ".py",
   "mimetype": "text/x-python",
   "name": "python",
   "nbconvert_exporter": "python",
   "pygments_lexer": "ipython3",
   "version": "3.10.11"
  },
  "varInspector": {
   "cols": {
    "lenName": 16,
    "lenType": 16,
    "lenVar": 40
   },
   "kernels_config": {
    "python": {
     "delete_cmd_postfix": "",
     "delete_cmd_prefix": "del ",
     "library": "var_list.py",
     "varRefreshCmd": "print(var_dic_list())"
    },
    "r": {
     "delete_cmd_postfix": ") ",
     "delete_cmd_prefix": "rm(",
     "library": "var_list.r",
     "varRefreshCmd": "cat(var_dic_list()) "
    }
   },
   "types_to_exclude": [
    "module",
    "function",
    "builtin_function_or_method",
    "instance",
    "_Feature"
   ],
   "window_display": false
  }
 },
 "nbformat": 4,
 "nbformat_minor": 4
}
