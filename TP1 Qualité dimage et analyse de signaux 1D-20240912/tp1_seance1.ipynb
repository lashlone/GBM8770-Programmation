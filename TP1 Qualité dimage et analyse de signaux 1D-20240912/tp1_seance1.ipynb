{
 "cells": [
  {
   "cell_type": "markdown",
   "metadata": {},
   "source": [
    "<h1 style=\"text-align: center; font-family: Arial\"> TP 1 - Séance 1 </h1>\n",
    "<h2 style=\"text-align: center; font-family: Arial\"> Qualité d'image </h2>"
   ]
  },
  {
   "cell_type": "markdown",
   "metadata": {},
   "source": [
    "Équipe #0\n",
    "- Nom, Prénom (Matricule)\n",
    "- Nom, Prénom (Matricule)"
   ]
  },
  {
   "cell_type": "code",
   "execution_count": 1,
   "metadata": {},
   "outputs": [],
   "source": [
    "# Importe les modules qui seront utilisés dans le laboratoire.\n",
    "import numpy as np\n",
    "from IPython.display import clear_output\n",
    "import matplotlib.pyplot as plt\n",
    "from matplotlib.pyplot import imread\n",
    "\n",
    "%matplotlib inline\n",
    "# Étend la taille des figures\n",
    "plt.rcParams[\"figure.figsize\"] = (12, 7)"
   ]
  },
  {
   "cell_type": "markdown",
   "metadata": {},
   "source": [
    "<span style='color: red;'> Attention : Lisez également le fichier Énoncé TP1.pdf que nous vous donnons. Il contient les questions du TP mais également des informations supplémentaires et astuces pour vous aider.  \n",
    "</span>"
   ]
  },
  {
   "cell_type": "markdown",
   "metadata": {},
   "source": [
    "# Exercice I: Étude de la résolution\n",
    "## Mise en place des fonctions\n",
    "\n",
    "<span style='color: red;'> Attention : tous les fichiers et les images dont vous aurez besoin pour cette séance sont dans le dossier 'fichiers_seance_1'. Vos chemins devront être ajustés en conséquence. \n",
    "</span>"
   ]
  },
  {
   "cell_type": "markdown",
   "metadata": {},
   "source": [
    "**1.** Ouvrez et affichez l'image ```brain_tumor.jpg```. "
   ]
  },
  {
   "cell_type": "code",
   "execution_count": null,
   "metadata": {},
   "outputs": [],
   "source": []
  },
  {
   "cell_type": "markdown",
   "metadata": {},
   "source": [
    "**2.** Déterminez graphiquement la largeur approximative de la tumeur en pixel (selon l'axe transversal).\n",
    "\n",
    "Affichez cette largeur sous forme d'une ligne pointillée délimitée par deux points, avec la fonction ```ax.plot(x, y)```. "
   ]
  },
  {
   "cell_type": "code",
   "execution_count": 2,
   "metadata": {},
   "outputs": [],
   "source": [
    "# vous pouvez utiliser ax.imshow(img) puis ax.plot(x, y) pour afficher une image et y superposer des points\n",
    "# vous pouvez afficher la grille sur l'image avec plt.grid() pour mieux trouver les positions en pixel"
   ]
  },
  {
   "cell_type": "markdown",
   "metadata": {},
   "source": [
    "**3.** Définissez la méthode ```taillePixel(x0, y0, x1, y1, ref)``` qui calcule la taille physique d'un pixel en millimètre."
   ]
  },
  {
   "cell_type": "code",
   "execution_count": 3,
   "metadata": {},
   "outputs": [],
   "source": [
    "def taille_pixel(x0, y0, x1, y1, ref):\n",
    "    \"\"\"Calcule la taille d'un pixel en fonction des coordonnées d'un objet et sa taille de référence\n",
    "    @param x0  La coordonnée x du point 0\n",
    "    @param y0  La coordonnée y du point 0\n",
    "    @param x1  La coordonnée x du point 1\n",
    "    @param y1  La coordonnée y du point 1\n",
    "    @param ref La taille physique en mm de l'objet défini par les points 0 et 1\n",
    "    @return    La taille physique d'un pixel en millimètre\n",
    "    \"\"\"\n",
    "    # return ..."
   ]
  },
  {
   "cell_type": "markdown",
   "metadata": {},
   "source": [
    "**4.** La largeur de la tumeur est de 3 cm. Déduisez la largeur d'un pixel en millimètre."
   ]
  },
  {
   "cell_type": "code",
   "execution_count": null,
   "metadata": {},
   "outputs": [],
   "source": []
  },
  {
   "cell_type": "markdown",
   "metadata": {},
   "source": [
    "**5.** Définissez la méthode ```downsample(img, f)```."
   ]
  },
  {
   "cell_type": "code",
   "execution_count": 4,
   "metadata": {},
   "outputs": [],
   "source": [
    "def downsample(img, f):\n",
    "    \"\"\"Sous-échantillone l'image img d'un facteur f\n",
    "    @param img  L'image à sous-échantilloner.\n",
    "    @param f    Le facteur de sous-échantillonage (un pixel sur f est conservé).\n",
    "    @return     L'image sous-échantillonée: sa taille est celle d'img divisée par f.\n",
    "    \"\"\"\n",
    "    # return ..."
   ]
  },
  {
   "cell_type": "markdown",
   "metadata": {},
   "source": [
    "**6.** Affichez l'image de la tumeur sous-échantillonnée avec ```f=2, 3, 4```. Affichez le facteur de downsampling ainsi que la taille de l'image downsamplée dans le titre de la figure. Comment évolue la largeur d'un pixel lors du sous-échantillonage? Donnez un avantage et un inconvénient de l'utilisation d'une image médicale downsamplée plutôt que l'image pleine résolution. "
   ]
  },
  {
   "cell_type": "code",
   "execution_count": 5,
   "metadata": {},
   "outputs": [],
   "source": [
    "# pour inclure la valeur d'une variable dans un string, vous pouvez utiliser la syntaxe suivante (pour une variable x):\n",
    "# f\"ma variable : {x}\"              ou encore\n",
    "# \"ma variable :{:.2f}\".format(x)   pour forcer l'affichage à afficher une valeur flottante avec 2 décimales"
   ]
  },
  {
   "cell_type": "markdown",
   "metadata": {},
   "source": [
    "## Calibration d'un IRM"
   ]
  },
  {
   "cell_type": "markdown",
   "metadata": {},
   "source": [
    "**7.** Ouvrez et affichez l'image ```resolution.png```. Affichez l'image en niveau de gris, cachez les axes et ajoutez un titre. Par dessus l'image, dessinez des lignes pointillées le long des mires verticales et horizontales. Affichez une légende pour les lignes. "
   ]
  },
  {
   "cell_type": "code",
   "execution_count": 6,
   "metadata": {
    "tags": []
   },
   "outputs": [],
   "source": [
    "# np.arange, plt.imshow, plt.plot, plt.legend ...\n",
    "# Pour les deux profils vous pouvez prendre: y=201:341, x=200 et y=190, x=206:346."
   ]
  },
  {
   "cell_type": "markdown",
   "metadata": {},
   "source": [
    "**8.** La largeur du cube central est de 10 cm. Déduisez la largeur d'un pixel en millimètre."
   ]
  },
  {
   "cell_type": "code",
   "execution_count": null,
   "metadata": {
    "tags": []
   },
   "outputs": [],
   "source": []
  },
  {
   "cell_type": "markdown",
   "metadata": {},
   "source": [
    "**9.** Quelle est la relation entre la largeur d'un pixel et la taille du plus petit objet observable ? Selon cette relation, quelle serait la taille du plus petit objet observable dans cette image ?\n",
    "\n"
   ]
  },
  {
   "cell_type": "markdown",
   "metadata": {},
   "source": []
  },
  {
   "cell_type": "markdown",
   "metadata": {},
   "source": [
    "**10.** Afin de vérifier cette relation, affichez les profils d'intensités le long d'axes perpendiculaires aux mires. Utilisez la distance en millimètres comme abscisses. \n",
    "\n",
    "Quelle est l'épaisseur des plus petites mires observables? Fiez-vous au tableau 1 et à la figure 3 de l'énoncé. \n",
    "\n",
    "Est-ce cohérent avec votre réponse donnée à la question **9** ?"
   ]
  },
  {
   "cell_type": "code",
   "execution_count": null,
   "metadata": {},
   "outputs": [],
   "source": []
  },
  {
   "cell_type": "markdown",
   "metadata": {},
   "source": [
    "## Mesure de l'épaisseur de coupe"
   ]
  },
  {
   "cell_type": "markdown",
   "metadata": {},
   "source": [
    "**11.** Affichez les profils d'intensités des 4 rampes et mesurer graphiquement la largeur des gaussiennes à mi-hauteur. \n",
    "\n",
    "(Affichez les grilles sur les graphiques et augmenter la fréquence des ticks et la taille de l'image devraient faciliter la mesure)."
   ]
  },
  {
   "cell_type": "code",
   "execution_count": 7,
   "metadata": {},
   "outputs": [],
   "source": [
    "# Pour les profils des rampes vous pouvez prendre: y=140, x=230:290\n",
    "#                                                  y=230:290, x=365\n",
    "#                                                  y=360, x=210:270\n",
    "#                                                  y=215:275, x=147"
   ]
  },
  {
   "cell_type": "markdown",
   "metadata": {
    "tags": []
   },
   "source": [
    "**12.** L'épaisseur de la coupe est donnée par $e=\\tan(14^\\circ) \\times FWHM$ où $FWHM$ est la largeur à mi-hauteur en mm. Sachant que les paramètres de l'IRM indiquent une épaisseur de coupe théorique de $2\\pm0.3$ mm, passerait-il le controle qualité?"
   ]
  },
  {
   "cell_type": "code",
   "execution_count": null,
   "metadata": {
    "tags": []
   },
   "outputs": [],
   "source": []
  },
  {
   "cell_type": "markdown",
   "metadata": {},
   "source": [
    "# Exercice II: Analyse du contraste et du bruit\n",
    "## Mesure du contraste"
   ]
  },
  {
   "cell_type": "code",
   "execution_count": 8,
   "metadata": {},
   "outputs": [],
   "source": [
    "# pour étendre l'affichage des figures encore plus, facultatif !\n",
    "plt.rcParams[\"figure.figsize\"] = (20, 7)"
   ]
  },
  {
   "cell_type": "markdown",
   "metadata": {},
   "source": [
    "**1.** Chargez  et affichez l'image ```oct.png```."
   ]
  },
  {
   "cell_type": "code",
   "execution_count": null,
   "metadata": {},
   "outputs": [],
   "source": []
  },
  {
   "cell_type": "markdown",
   "metadata": {},
   "source": [
    "**2.** Chargez  et affichez les segmentations ```mask_choroid_left.npy```, ```mask_choroid_right.npy```, ```mask_rpe_left.npy```, ```mask_rpe_right.npy``` et ```mask_onh.npy```."
   ]
  },
  {
   "cell_type": "code",
   "execution_count": null,
   "metadata": {},
   "outputs": [],
   "source": []
  },
  {
   "cell_type": "markdown",
   "metadata": {},
   "source": [
    "**3.** Regrouper les segmentations de la choroide et de la RPE en un seul masque par région (1 masque pour la choroide, gauche et droite, etc.). Affichez les segmentations regroupées."
   ]
  },
  {
   "cell_type": "code",
   "execution_count": null,
   "metadata": {},
   "outputs": [],
   "source": []
  },
  {
   "cell_type": "markdown",
   "metadata": {},
   "source": [
    "**4.** Utilisez le masque  ```mask_retina.npy ``` pour définir un masque du fond de l'image (et pas de la rétine)."
   ]
  },
  {
   "cell_type": "code",
   "execution_count": null,
   "metadata": {},
   "outputs": [],
   "source": []
  },
  {
   "cell_type": "markdown",
   "metadata": {},
   "source": [
    "**5.** Calculez l'intensité moyenne sur ces 3 régions (choroide, RPE et tête du nerf optique) et sur le fond de l'image. En déduire le contraste entre chaque région et le fond de l'image OCT. Quelle est la zone de la rétine où le contraste est le meilleur ?"
   ]
  },
  {
   "cell_type": "code",
   "execution_count": null,
   "metadata": {
    "tags": []
   },
   "outputs": [],
   "source": []
  },
  {
   "cell_type": "markdown",
   "metadata": {},
   "source": [
    "## Mesure du Rapport Contraste/Bruit"
   ]
  },
  {
   "cell_type": "markdown",
   "metadata": {},
   "source": [
    "**6.** Ouvrez et affichez les images ```oct.png```, ```oct_2.png```,  ```oct_3.png```, ```oct_4.png```, ```oct_5.png```. "
   ]
  },
  {
   "cell_type": "code",
   "execution_count": 9,
   "metadata": {},
   "outputs": [],
   "source": [
    "plt.rcParams[\"figure.figsize\"] = (30, 10)"
   ]
  },
  {
   "cell_type": "code",
   "execution_count": null,
   "metadata": {
    "scrolled": true
   },
   "outputs": [],
   "source": []
  },
  {
   "cell_type": "markdown",
   "metadata": {},
   "source": [
    "**7.** En utilisant la segmentation de la rétine et la segmentation de la région avec le plus grand contraste (question précédente), calculez le CNR en décibel sur ces 5 images. "
   ]
  },
  {
   "cell_type": "code",
   "execution_count": null,
   "metadata": {},
   "outputs": [],
   "source": []
  },
  {
   "cell_type": "markdown",
   "metadata": {},
   "source": [
    "**8.** Calculer une image moyenne de ces 5 images, qui sera une estimation de l'image OCT débruitée. Affichez côte à côte une des images originale et l'image moyennée. Quelles différences remarquez-vous ?"
   ]
  },
  {
   "cell_type": "code",
   "execution_count": null,
   "metadata": {},
   "outputs": [],
   "source": []
  },
  {
   "cell_type": "markdown",
   "metadata": {},
   "source": [
    "**9.** Calculer le CNR sur une des images originales, l'image moyennée calculée à la question précédente, et sur l'image ```ave.png``` fournie. Affichez les trois images côte-à-côte et comparez leurs CNRs. Quelle image obtient le CNR le plus élevé ? "
   ]
  },
  {
   "cell_type": "code",
   "execution_count": null,
   "metadata": {},
   "outputs": [],
   "source": []
  },
  {
   "cell_type": "markdown",
   "metadata": {},
   "source": [
    "**10.** Que pouvez-vous conclure sur la technique de moyennage comme technique de débruitage ? (Pourriez-vous utiliser la technique de moyennage en tout temps ? Quelles conditions doivent être respectées pour que la technique fonctionne bien ?)"
   ]
  },
  {
   "cell_type": "markdown",
   "metadata": {},
   "source": []
  },
  {
   "cell_type": "markdown",
   "metadata": {},
   "source": [
    "**8.** Que représente le rapport contraste/bruit? Est-il préférable d'avoir un CNR faible ou fort? \n",
    "\n"
   ]
  },
  {
   "cell_type": "markdown",
   "metadata": {},
   "source": []
  },
  {
   "cell_type": "markdown",
   "metadata": {},
   "source": [
    "**9.** Nommez un avantage de calculer le rapport contraste/bruit par rapport au rapport signal/bruit. "
   ]
  },
  {
   "cell_type": "markdown",
   "metadata": {},
   "source": []
  }
 ],
 "metadata": {
  "kernelspec": {
   "display_name": ".venv",
   "language": "python",
   "name": "python3"
  },
  "language_info": {
   "codemirror_mode": {
    "name": "ipython",
    "version": 3
   },
   "file_extension": ".py",
   "mimetype": "text/x-python",
   "name": "python",
   "nbconvert_exporter": "python",
   "pygments_lexer": "ipython3",
   "version": "3.12.5"
  },
  "varInspector": {
   "cols": {
    "lenName": 16,
    "lenType": 16,
    "lenVar": 40
   },
   "kernels_config": {
    "python": {
     "delete_cmd_postfix": "",
     "delete_cmd_prefix": "del ",
     "library": "var_list.py",
     "varRefreshCmd": "print(var_dic_list())"
    },
    "r": {
     "delete_cmd_postfix": ") ",
     "delete_cmd_prefix": "rm(",
     "library": "var_list.r",
     "varRefreshCmd": "cat(var_dic_list()) "
    }
   },
   "types_to_exclude": [
    "module",
    "function",
    "builtin_function_or_method",
    "instance",
    "_Feature"
   ],
   "window_display": false
  }
 },
 "nbformat": 4,
 "nbformat_minor": 4
}
