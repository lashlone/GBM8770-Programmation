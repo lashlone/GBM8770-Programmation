{
 "cells": [
  {
   "cell_type": "markdown",
   "id": "01bcafa0",
   "metadata": {},
   "source": [
    "<h1 style=\"text-align: center; font-family: Arial\"> TP 1 - Séance 2 </h1>\n",
    "<h2 style=\"text-align: center; font-family: Arial\"> Rehaussement d'image </h2>"
   ]
  },
  {
   "cell_type": "markdown",
   "id": "5096bfcc",
   "metadata": {},
   "source": [
    "Équipe #22\n",
    "- Beaudry, Sophie (2140839)\n",
    "- Lachapelle, Vincent (2206192)"
   ]
  },
  {
   "cell_type": "code",
   "execution_count": 2,
   "id": "6f47c9d0",
   "metadata": {},
   "outputs": [],
   "source": [
    "# Importation des modules utilisés dans le laboratoire\n",
    "import numpy as np\n",
    "import matplotlib.pyplot as plt\n",
    "from matplotlib.pyplot import imread\n",
    "from scipy.ndimage import convolve\n",
    "import skimage.filters as skfilters\n",
    "import skimage.morphology as skmorph\n",
    "\n",
    "from cv2 import cvtColor, COLOR_RGB2GRAY\n",
    "from cv2 import imread as cv2Imread\n",
    "\n",
    "%matplotlib inline\n",
    "# Modification de la taille des figures par défault\n",
    "plt.rcParams[\"figure.figsize\"] = (12, 7)"
   ]
  },
  {
   "cell_type": "markdown",
   "id": "7dc1147c",
   "metadata": {},
   "source": [
    "# Exercice III: Prétraitement d'images grayscale\n",
    "\n",
    "<font color='red'> Dans toutes les questions de cet exercice, prenez soin de spécifier les bornes des intensités lors de l'affichage. Voir énoncé en pdf. \\\n",
    "Tous les fichiers et les images dont vous aurez besoin pour cette séance sont dans le dossier 'fichiers_seance_2'. Vos chemins devront être ajustés en conséquence. \n",
    "</font>"
   ]
  },
  {
   "cell_type": "markdown",
   "id": "15989789",
   "metadata": {},
   "source": [
    "## Égalisation d'histogramme"
   ]
  },
  {
   "cell_type": "markdown",
   "id": "b3edc922",
   "metadata": {},
   "source": [
    "**1.** Ouvrez, convertissez en valeurs entières et affichez l'image ```radio_thoracique.png```.\n",
    "Prenez soin de spécifier les bornes des intensités lors de l'affichage."
   ]
  },
  {
   "cell_type": "code",
   "execution_count": null,
   "id": "cfe7b340",
   "metadata": {},
   "outputs": [],
   "source": [
    "img = imread(\"fichiers_seance_2/radio_thoracique.png\")\n",
    "img_entier = np.round(img * 255).astype(np.uint8)\n",
    "\n",
    "plt.imshow(img_entier, cmap=\"gray\", vmin=0, vmax=255)\n",
    "plt.colorbar(ticks = np.linspace(np.min(img_entier), np.max(img_entier), 6).astype(np.uint8))\n",
    "plt.show()\n",
    "print(f\"La valeur d'intensité minimale est {np.min(img_entier)} et la valeur maximale est {np.max(img_entier)}.\")"
   ]
  },
  {
   "cell_type": "markdown",
   "id": "76543633",
   "metadata": {},
   "source": [
    "**2.** À l'aide de [np.histogram](https://numpy.org/doc/stable/reference/generated/numpy.histogram.html), calculez puis affichez son histogramme.  \n",
    "Pour gagner du temps aux questions suivantes, vous pouvez définir une fonction qui effectue ces deux opérations."
   ]
  },
  {
   "cell_type": "code",
   "execution_count": null,
   "id": "9620e8d9",
   "metadata": {},
   "outputs": [],
   "source": [
    "def plot_histogram(img: np.array, ax: plt.Axes | None = None) -> None:\n",
    "    counts, bins = np.histogram(img, bins=16, range=(0.0, 255.0), density=True)\n",
    "\n",
    "    if ax:\n",
    "        ax.stairs(counts, bins, fill=True)\n",
    "        ax.set_xticks(np.linspace(0, 255, 17).astype(np.uint8));\n",
    "    \n",
    "    else:\n",
    "        fig, ax = plt.subplots()\n",
    "        ax.stairs(counts, bins, fill=True)\n",
    "        ax.set_xticks(np.linspace(0, 255, 17).astype(np.uint8));\n",
    "        fig.show();\n",
    "\n",
    "plot_histogram(img_entier)"
   ]
  },
  {
   "cell_type": "markdown",
   "id": "5e76fbc4",
   "metadata": {},
   "source": [
    "**3a.** Complétez la fonction ```equalize_histogram(img)``` qui effectue l'égalisation d'histogramme d'une image `img` et renvoie l'image égalisée."
   ]
  },
  {
   "cell_type": "code",
   "execution_count": 5,
   "id": "33466cab",
   "metadata": {},
   "outputs": [],
   "source": [
    "def equalize_histogram(img: np.ndarray) -> np.ndarray:\n",
    "    counts, bins = np.histogram(img, bins=256, range=(0.0, 255.0), density=True)\n",
    "    cumsum_data = np.cumsum(counts)\n",
    "    img_eq = cumsum_data[img] * 255\n",
    "    return img_eq.astype(np.uint8)"
   ]
  },
  {
   "cell_type": "markdown",
   "id": "5ec548f2",
   "metadata": {},
   "source": [
    "**3b.** Comparez l'image et son histogramme avant et après l'égalisation. Prenez soin de spécifier les bornes des intensités lors de l'affichage. Que constatez vous? Quel impact a l'égalisation sur le contraste de l'image?"
   ]
  },
  {
   "cell_type": "code",
   "execution_count": null,
   "id": "54ce83cf",
   "metadata": {},
   "outputs": [],
   "source": [
    "img_egal = equalize_histogram(img_entier)\n",
    "\n",
    "fig, [[ax_ori, ax_egal], [ax_hist_ori, ax_hist_egal]] = plt.subplots(2, 2)\n",
    "fig.tight_layout(h_pad=4.0, w_pad=2.0)\n",
    "\n",
    "ax_ori.set_title(\"Image originale\")\n",
    "img_graphe = ax_ori.imshow(img_entier, cmap=\"gray\", vmin=0, vmax=255)\n",
    "fig.colorbar(img_graphe, ticks=np.linspace(np.min(img_entier), np.max(img_entier), 6).astype(np.uint8), ax=ax_ori)\n",
    "ax_hist_ori.set_title(\"Historigramme de l'image originale\")\n",
    "plot_histogram(img_entier, ax_hist_ori)\n",
    "\n",
    "ax_egal.set_title(\"Image égalisée\")\n",
    "img_graphe_egal = ax_egal.imshow(img_egal, cmap=\"gray\", vmin=0, vmax=255)\n",
    "fig.colorbar(img_graphe_egal, ticks=np.linspace(np.min(img_egal), np.max(img_egal), 6).astype(np.uint8), ax=ax_egal)\n",
    "ax_hist_egal.set_title(\"Historigramme de l'image égalisée\")\n",
    "plot_histogram(img_egal,ax_hist_egal)\n"
   ]
  },
  {
   "cell_type": "markdown",
   "id": "eeea9db8",
   "metadata": {},
   "source": [
    "Le contraste de l'image égalisée est beaucoup plus prononcé que celui de l'image originale. En observant l'histogramme de ces images, il est possible de constater que la plage d'intensité utilisée est beaucoup plus grande et uniformisée dans l'image égalisé que dans l'image normale. "
   ]
  },
  {
   "cell_type": "markdown",
   "id": "68bc8d1d",
   "metadata": {},
   "source": [
    "**4.** Effectuez les mêmes opérations qu'à la question **3b** (égalisation d'histogramme puis affichage de l'image et l'histograme avant et après l'égalisation) sur l'image `fundus_mauvais_contraste`. Que constatez-vous ? Que proposeriez-vous afin d'améliorer le contraste et la visibilité des structures de l'oeil dans cette image ?"
   ]
  },
  {
   "cell_type": "code",
   "execution_count": null,
   "id": "a42ae416",
   "metadata": {},
   "outputs": [],
   "source": [
    "image = cv2Imread(\"fichiers_seance_2/fundus_mauvais_contraste.png\")\n",
    "gray = cvtColor(image, COLOR_RGB2GRAY)\n",
    "\n",
    "img_fundus_egal = equalize_histogram(gray)\n",
    "\n",
    "fig, [[ax_ori, ax_egal], [ax_hist_ori, ax_hist_egal]] = plt.subplots(2, 2)\n",
    "fig.tight_layout(h_pad=4.0, w_pad=2.0)\n",
    "\n",
    "ax_ori.set_title(\"Image originale\")\n",
    "img_graphe = ax_ori.imshow(gray, cmap=\"gray\", vmin=0, vmax=255)\n",
    "fig.colorbar(img_graphe, ticks=np.linspace(np.min(gray), np.max(gray), 6).astype(np.uint8), ax=ax_ori)\n",
    "ax_hist_ori.set_title(\"Historigramme de l'image originale\")\n",
    "plot_histogram(gray,ax_hist_ori)\n",
    "\n",
    "ax_egal.set_title(\"Image égalisée\")\n",
    "img_graphe_egal = ax_egal.imshow(img_fundus_egal, cmap=\"gray\",vmin=0,vmax=255)\n",
    "fig.colorbar(img_graphe_egal, ticks=np.linspace(np.min(img_fundus_egal), np.max(img_fundus_egal), 6).astype(np.uint8), ax=ax_egal)\n",
    "ax_hist_egal.set_title(\"Historigramme de l'image égalisée\")\n",
    "plot_histogram(img_fundus_egal,ax_hist_egal)"
   ]
  },
  {
   "cell_type": "markdown",
   "metadata": {},
   "source": [
    "On constate un grand pic à 0 dans l'image d'origine. Comme on a une quantité importante de pixels à 0 dans l'image d'origine, l'historigramme cumulé augmente rapidement vers des valeurs de 0.2. On voit donc sur l'échelle de couleurs de l'image égalisée que la valeur minimale est de 50 (0,2 x 255). Cela induit une mauvaise distribution des intensités des pixels, comme on peut l'observer sur l'historigramme de l'image égalisée. Bien qu'on perde certaines informations sur la définition du contour de l'oeil, on remarque une meilleure définition des vaisseaux sanguins,du nerf optique et de la macula. On pourrait utiliser un filtre high boost pour mieux définir les contours des différentes structures."
   ]
  },
  {
   "cell_type": "markdown",
   "id": "8d3439ec",
   "metadata": {},
   "source": [
    "## Filtrage High-Boost\n",
    "\n",
    "**5.** Ouvrez l'image ```angiography.jpg```. Convertissez l'image en valeurs flottantes (normalisez par la valeur maximale) et conservez uniquement le premier canal de cette image. Affichez l'image résultante. "
   ]
  },
  {
   "cell_type": "code",
   "execution_count": null,
   "id": "92c5f091",
   "metadata": {},
   "outputs": [],
   "source": [
    "angio = imread(\"fichiers_seance_2/angiography.jpg\")\n",
    "angio_canal = angio[:,:,0]\n",
    "angio_float = angio_canal/np.max(angio_canal)\n",
    "\n",
    "plt.title(\"Premier canal de l'angiographie original de l'oeil\")\n",
    "plt.imshow(angio_float, cmap=\"gray\", vmin=0.0, vmax=1.0)\n",
    "plt.show()"
   ]
  },
  {
   "cell_type": "markdown",
   "id": "258f1385",
   "metadata": {},
   "source": [
    "**6.** En utilisant la fonction [convolve](https://docs.scipy.org/doc/scipy/reference/generated/scipy.ndimage.convolve.html), calculez la convolution de l'image angiographique avec une filtre gaussien de taille $3 \\times 3$: \n",
    "\n",
    "$W_{Gaussienne3}\\ =\\ \\dfrac{1}{16}\\ \\begin{bmatrix} 1 & 2 & 1 \\\\ 2 & 4 & 2 \\\\ 1 & 2 & 1 \\end{bmatrix} $\n",
    "\n",
    "Affichez côte à côte l'image angiographique et le résultat de la convolution.\n",
    "\n",
    "_N'hésitez pas à augmenter la taille de la figure pour mieux observer les images._"
   ]
  },
  {
   "cell_type": "code",
   "execution_count": null,
   "id": "0fd83e87",
   "metadata": {},
   "outputs": [],
   "source": [
    "# Le masque de convolution est donné ci-dessous\n",
    "Wgaussienne3 = np.array([[1, 2, 1], [2, 4, 2], [1, 2, 1]]) / 16\n",
    "\n",
    "angio_filtre_3 = convolve(angio_float, Wgaussienne3, mode='nearest')\n",
    "\n",
    "fig, [ax_ori, ax_conv] = plt.subplots(1, 2)\n",
    "\n",
    "ax_ori.set_title(\"Image original\")\n",
    "ax_ori.imshow(angio_float, cmap=\"gray\", vmin=0.0, vmax=1.0)\n",
    "ax_conv.set_title(\"Image filtrée par un filtre gaussien 3x3\")\n",
    "ax_conv.imshow(angio_filtre_3, cmap=\"gray\", vmin=0.0, vmax=1.0);"
   ]
  },
  {
   "cell_type": "markdown",
   "id": "e7970ae4",
   "metadata": {},
   "source": [
    "**7a.** Effectuez la même opération (convolution et affichage) avec une Gaussienne de taille 7x7: \n",
    "\n",
    "$W_{Gaussienne7}\\ =\\ \\dfrac{1}{1115}\\ \n",
    "\\begin{bmatrix} \n",
    " 1 &  4 &  7 & 10 &  7 &  4 &  1 \\\\\n",
    " 4 & 12 & 26 & 33 & 26 & 12 &  4 \\\\\n",
    " 7 & 26 & 55 & 71 & 55 & 26 &  7 \\\\\n",
    "10 & 33 & 71 & 91 & 71 & 33 & 10 \\\\\n",
    " 7 & 26 & 55 & 71 & 55 & 26 &  7 \\\\\n",
    " 4 & 12 & 26 & 33 & 26 & 12 &  4 \\\\\n",
    " 1 &  4 &  7 & 10 &  7 &  4 &  1 \\\\\n",
    "\\end{bmatrix} $\n"
   ]
  },
  {
   "cell_type": "code",
   "execution_count": null,
   "id": "393c9ea3",
   "metadata": {},
   "outputs": [],
   "source": [
    "# Le masque de convolution est donné ci-dessous\n",
    "Wgaussienne7 = (\n",
    "    np.array(\n",
    "        [\n",
    "            [1, 4, 7, 10, 7, 4, 1],\n",
    "            [4, 12, 26, 33, 26, 12, 4],\n",
    "            [7, 26, 55, 71, 55, 26, 7],\n",
    "            [10, 33, 71, 91, 71, 33, 10],\n",
    "            [7, 26, 55, 71, 55, 26, 7],\n",
    "            [4, 12, 26, 33, 26, 12, 4],\n",
    "            [1, 4, 7, 10, 7, 4, 1],\n",
    "        ]\n",
    "    )\n",
    "    / 1115\n",
    ")\n",
    "\n",
    "angio_filtre_7 = convolve(angio_float, Wgaussienne7, mode='nearest')\n",
    "\n",
    "fig, [ax_ori, ax_conv] = plt.subplots(1, 2)\n",
    "\n",
    "ax_ori.set_title(\"Image original\")\n",
    "ax_ori.imshow(angio_float, cmap='gray', vmin=0.0, vmax=1.0)\n",
    "ax_conv.set_title(\"Image filtrée par un filtre gaussien 7x7\")\n",
    "ax_conv.imshow(angio_filtre_7, cmap='gray', vmin=0.0, vmax=1.0);"
   ]
  },
  {
   "cell_type": "markdown",
   "id": "48a34974",
   "metadata": {},
   "source": [
    "**7b.** Qu'observez vous lorsque l'écart-type de la gaussienne augmente ?  Quel est le type de ces deux filtres gaussiens?"
   ]
  },
  {
   "cell_type": "markdown",
   "id": "7c8f9aa4",
   "metadata": {},
   "source": [
    "On observe qu'en augmentant l'écart-type on coupe davantage de hautes fréquences. Ce qui se traduit par des contours moins bien définis de manière générale, mais qui permet d'éliminer les bruit en arrière-plan des fins éléments qui ne sont pas des vaisseaux sanguins."
   ]
  },
  {
   "cell_type": "markdown",
   "id": "3ec43806",
   "metadata": {},
   "source": [
    "**8a.** Calculez et affichez le Laplacien de l'image angiographique en la convoluant avec:\n",
    "\n",
    "$W_{Laplacien}\\ =\\\n",
    "\\begin{bmatrix} \n",
    " -1 & -1 & -1 \\\\\n",
    " -1 & 8 & -1 \\\\\n",
    " -1 & -1 & -1 \\\\\n",
    "\\end{bmatrix} $\n",
    "\n",
    "_(Attention: le Laplacien d'une image contient des valeurs négatives, pour les visualiser correctement les bornes d'affichages doivent être -1 et 1!)_"
   ]
  },
  {
   "cell_type": "code",
   "execution_count": null,
   "id": "010eaa59",
   "metadata": {},
   "outputs": [],
   "source": [
    "# Le masque de convolution est donné ci-dessous\n",
    "Wlaplacien = np.array([[-1, -1, -1], [-1, 8, -1], [-1, -1, -1]])\n",
    "\n",
    "angio_laplacien = convolve(angio_float, Wlaplacien, mode='nearest')\n",
    "\n",
    "fig, [ax_ori, ax_conv] = plt.subplots(1, 2)\n",
    "\n",
    "ax_ori.set_title(\"Image original\")\n",
    "ax_ori.imshow(angio_float, cmap='gray', vmin=0.0, vmax=1.0)\n",
    "ax_conv.set_title(\"Image filtrée par l'opérateur Laplacien\")\n",
    "ax_conv.imshow(angio_laplacien, cmap='gray', vmin=-1.0, vmax=1.0);"
   ]
  },
  {
   "cell_type": "markdown",
   "id": "6b3bdfc1",
   "metadata": {},
   "source": [
    "**8b.** Quel est le type de ce filtre?"
   ]
  },
  {
   "cell_type": "markdown",
   "id": "6f1f2466",
   "metadata": {},
   "source": [
    "C'est un filtre passe-haut, car la somme des coefficients de la matrice utilisée est nulle. Ce qui est caractéristique d'un filtre passe-haut. On remarque aussi sur l'image filtrée qu'uniquement les contours sont conservés."
   ]
  },
  {
   "cell_type": "markdown",
   "id": "27abd1e4",
   "metadata": {},
   "source": [
    "On rappelle que le filtrage high-boost est défini par:  \n",
    "  $I_{g} =  I * W_{gaussienne3}$  \n",
    "  $I_{HighBoost} = I + k \\times (I_g * W_{laplacien})$  \n",
    "  (avec $I$ l'image originale, $I_{HighBoost}$ l'image filtrée, et $I* _{gaussienne3}$ la convolution entre l'image et le masque gaussien de taille $3 \\times 3$.)\n",
    "\n",
    "**9a.** Implémentez la fonction `high_boost(img, k)` qui prend en paramètre l'image $I$ et $k$ et renvoie l'image après le filtrage High Boost. Affichez le résultat pour $k=0$, $k=1$ et $k=2$.  (Limitez l'affichage entre 0 et 1!)\n"
   ]
  },
  {
   "cell_type": "code",
   "execution_count": null,
   "id": "9dedfff5",
   "metadata": {},
   "outputs": [],
   "source": [
    "def high_boost(img, k):\n",
    "    img_inter = convolve(img, Wgaussienne3, mode='nearest')\n",
    "    img_laplacien = convolve(img_inter, Wlaplacien, mode='nearest')\n",
    "\n",
    "    return img + k * img_laplacien\n",
    "\n",
    "for k in range(3):\n",
    "    plt.title(f\"Image pour k={k}\")\n",
    "    plt.imshow(high_boost(angio_float, k), cmap='gray', vmin=0.0, vmax=1.0)\n",
    "    plt.show()"
   ]
  },
  {
   "cell_type": "markdown",
   "id": "e77d55c5",
   "metadata": {},
   "source": [
    "**9b.** Discutez de l'impact du facteur $k$ sur la lisibilité de l'image (et donc la qualité du réhaussement)."
   ]
  },
  {
   "cell_type": "markdown",
   "id": "cec1fccf",
   "metadata": {},
   "source": [
    "Comme le bruit est une accumulation de hautes fréquences, si on met un filtre high-boost, on amplifie ces fréquences. On remarque donc qu'en augmentant k on augmente le bruit environnant. Cependant, on remaque aussi une meilleurs définition des contours avec l'augmentation de k si on compare à l'image originale."
   ]
  },
  {
   "cell_type": "markdown",
   "id": "54fd7660",
   "metadata": {},
   "source": [
    "**9c.** Dans ce filtrage, pourquoi calculer le laplacien sur $I_g$ plutôt que sur $I$ directement?  \n",
    "_(Appuyez-vous sur vos observations de la question 7b.)_"
   ]
  },
  {
   "cell_type": "markdown",
   "id": "7bc14637",
   "metadata": {},
   "source": [
    "Tel que discuté plus haut, le bruit est augmenté par le filtre high-boost. Il est donc important de le réduire avant de l'appliquer à l'image. On utilise donc le filtre gaussien afin de diminuer le bruit  sans générer de repliement de spectre dans le domaine fréquentiel."
   ]
  },
  {
   "cell_type": "markdown",
   "id": "839dde86",
   "metadata": {},
   "source": [
    "# Exercice IV: Filtrage Médian et Morphologique\n",
    "\n",
    "Cet exercice met en oeuvre des filtrages médians et morphologiques qui sont implémentés dans les modules pythons:   \n",
    "```skimage.morphology``` et ```skimage.filters``` importé sous les noms: ```skmorph``` et ```skfilters``` (déjà importés dans la première cellule du notebook)."
   ]
  },
  {
   "cell_type": "markdown",
   "id": "2a74d2e6",
   "metadata": {},
   "source": [
    "## Élimination du bruit par filtrage médian"
   ]
  },
  {
   "cell_type": "markdown",
   "id": "cb8cbcb5",
   "metadata": {},
   "source": [
    "**1a.** Chargez (sans conversion en intensités entières) et affichez l'image ```fundus_bruit.png```."
   ]
  },
  {
   "cell_type": "code",
   "execution_count": null,
   "id": "aa841a6e",
   "metadata": {},
   "outputs": [],
   "source": [
    "fundus = imread(\"fichiers_seance_2/fundus_bruit.png\")\n",
    "fundus_entier=np.round(fundus*255).astype(np.uint8)\n",
    "plt.imshow(fundus_entier)\n",
    "plt.show()"
   ]
  },
  {
   "cell_type": "markdown",
   "id": "8a0179f5",
   "metadata": {},
   "source": [
    "**1b.** Quel est le nom du bruit qui déteriore cette image de la rétine?"
   ]
  },
  {
   "cell_type": "markdown",
   "id": "97dd573e",
   "metadata": {},
   "source": [
    "Le bruit qui détériore cette image est du bruit poivre et sel."
   ]
  },
  {
   "cell_type": "markdown",
   "id": "27b06cc8",
   "metadata": {},
   "source": [
    "Pour la suite de l'exercice nous ne nous intéresserons qu'au canal vert de l'image."
   ]
  },
  {
   "cell_type": "code",
   "execution_count": 59,
   "id": "5a5a43df",
   "metadata": {},
   "outputs": [],
   "source": [
    "fundus_vert = fundus_entier[:, :, 1]"
   ]
  },
  {
   "cell_type": "markdown",
   "id": "3c88fd7b",
   "metadata": {},
   "source": [
    "\n",
    "\n",
    "**2.** Filtrez le bruit identifié à la question précédente à l'aide d'un filtrage médian [skfilters.median](https://scikit-image.org/docs/dev/api/skimage.filters.html#skimage.filters.median). Utilisez un élément structurant sous forme d'un disque (voir [skmorph.disk](https://scikit-image.org/docs/dev/api/skimage.morphology.html#skimage.morphology.disk)). Trouvez un rayon de disque approprié pour le filtrage. Affichez côte à côte le canal vert de l'image avant et après le filtrage."
   ]
  },
  {
   "cell_type": "code",
   "execution_count": null,
   "id": "74487276",
   "metadata": {},
   "outputs": [],
   "source": [
    "fundus_median = skfilters.median(fundus_vert, skmorph.disk(1), mode='constant', cval=0)\n",
    "\n",
    "fig, [ax_ori, ax_median] = plt.subplots(1, 2)\n",
    "fig.tight_layout(h_pad=4.0, w_pad=2.0)\n",
    "\n",
    "ax_ori.set_title(\"Image du fundus bruitée\")\n",
    "ax_ori.imshow(fundus_vert, vmin=0, vmax=255)\n",
    "ax_median.set_title(\"Image du fundus filtrée avec un disque médian circulaire e tayon1 \")\n",
    "ax_median.imshow(fundus_median), vmin=0, vmax=255\n",
    "d"
   ]
  },
  {
   "cell_type": "markdown",
   "metadata": {},
   "source": [
    "Le bruit poivre et sel est très dispersé, donc un disque de 1 pixel de rayon est suffisant."
   ]
  },
  {
   "cell_type": "markdown",
   "id": "678c9464",
   "metadata": {},
   "source": [
    "**3.** Filtrez le bruit identifié à la question précédente avec les filtres gaussiens utilisés à l'exercice précédent (convolution de l'image avec un filtre gaussien). Le filtrage gaussien présenté dans l'exercice I aurait-il été un meilleur ou moins bon choix pour cette tâche ? Pourquoi ?"
   ]
  },
  {
   "cell_type": "code",
   "execution_count": null,
   "id": "2fadd4be",
   "metadata": {},
   "outputs": [],
   "source": [
    "fundus_gaussien = convolve(fundus_vert, Wgaussienne7, mode='constant', cval=0)\n",
    "\n",
    "fig, [ax_ori, ax_gaussien] = plt.subplots(1, 2)\n",
    "fig.tight_layout(h_pad=4.0, w_pad=2.0)\n",
    "\n",
    "ax_ori.set_title(\"Image du fundus bruitée\")\n",
    "ax_ori.imshow(fundus_vert, vmin=0, vmax=255)\n",
    "ax_gaussien.set_title(\"Image du fundus filtrée avec un masque gaussien 7 x 7 disque de taille 1\")\n",
    "ax_gaussien.imshow(fundus_gaussien), vmin=0, vmax=255"
   ]
  },
  {
   "cell_type": "markdown",
   "id": "56adfab9",
   "metadata": {},
   "source": [
    "En comparant les deux images, on remarque que le filtre gaussien est moins performant que le filtre médian pour éliminer ce type de bruit, puisqu'il diffuse l'information plutôt que de l'éliminer. On observe donc sur l'image  filtrée que les points sont encore apparents, mais diffus."
   ]
  },
  {
   "cell_type": "markdown",
   "id": "7cc7789f",
   "metadata": {},
   "source": [
    "Les traitements présentés dans les deux sections suivantes seront appliqués sur **la version filtrée du canal vert** de l'image notée $I_V$."
   ]
  },
  {
   "cell_type": "markdown",
   "id": "d93beed8",
   "metadata": {},
   "source": [
    "## Réhaussement des vaisseaux"
   ]
  },
  {
   "cell_type": "markdown",
   "id": "42355b29",
   "metadata": {},
   "source": [
    "Afin de simplifier la détection des vaisseaux sur les images de la rétine, un prétraitement très utilisé consiste à effectuer une correction d'illumination locale. En définissant $F_{m}$ un filtre médian avec un large élément structurant (un disque de rayon 12), l'image prétraitée $I_P$ est calculée par: $I_P = I_V - F_m(I_V)$.\n",
    "\n",
    "**4a.** Calculez et affichez le résultat du filtrage médian $F_{m}(I_V)$ et du prétraitement $I_P$. Cette correction d'illumination est-elle efficace?\n"
   ]
  },
  {
   "cell_type": "code",
   "execution_count": null,
   "id": "2035a531",
   "metadata": {},
   "outputs": [],
   "source": [
    "# Calcul des images filtrées\n",
    "F_m = skfilters.median(fundus_median, skmorph.disk(12), mode='nearest', cval=0)\n",
    "I_p = fundus_median - F_m\n",
    "\n",
    "fig, [ax_Fm, ax_Ip] = plt.subplots(1, 2)\n",
    "fig.tight_layout(h_pad=4.0, w_pad=2.0)\n",
    "\n",
    "ax_Fm.set_title(\"Image du fundus filtrée avec un masque médian circulaire de rayon 12\")\n",
    "ax_Fm.imshow(F_m, vmin=0, vmax=255, cmap='gray')\n",
    "ax_Ip.set_title(\"Image du fundus prétraitée\")\n",
    "veine=ax_Ip.imshow(I_p, vmin=0, vmax=255, cmap='gray')\n"
   ]
  },
  {
   "cell_type": "markdown",
   "id": "a53032b1",
   "metadata": {},
   "source": [
    "**4b.** Les vaisseaux sont-ils un contenu hautes ou basses fréquences spatiales? Même question pour le résultat du filtrage médian $F_{m}(I_V)$."
   ]
  },
  {
   "cell_type": "markdown",
   "id": "3b5c9aca",
   "metadata": {},
   "source": [
    "Les vaisseaux sont un contenu haute fréquence parce que ils sont un détail fin. Le résultat du filtrage de l'image avec le filtre médian Fm(Iv) perd ces hautes fréquences. En soustrayant Iv-Fm(Iv) on retrouve les hautes fréquences."
   ]
  },
  {
   "cell_type": "markdown",
   "id": "c9457739",
   "metadata": {},
   "source": [
    "## Segmentation du disque optique\n",
    "\n",
    "On se propose de segmenter le disque optique (la tête du nerf optique apparaissant en clair sur l'image et dont émerge les vaisseaux) avec un seuil et des opérations morphologiqes."
   ]
  },
  {
   "cell_type": "markdown",
   "id": "34654466",
   "metadata": {},
   "source": [
    "**5a.** Implémentez la fonction ```binariser(img, seuil)``` qui prend en paramètre une image et un seuil et qui renvoie l'image binarisée: où tous les pixels inférieurs au seuil valent $0$ et tous ceux égaux ou supérieurs au seuil valent $1$.\n",
    "\n",
    "**5b.** Calculez et affichez l'image $I_V$ binarisée avec un seuil de $0.6$. On notera cette image binarisé $I_B$."
   ]
  },
  {
   "cell_type": "code",
   "execution_count": null,
   "id": "48a08f42",
   "metadata": {},
   "outputs": [],
   "source": [
    "def binariser(img: np.ndarray, seuil: float):\n",
    "    img_binaire = np.where(img >= seuil * np.max(img), 1, 0)\n",
    "    return img_binaire.astype(np.uint8)\n",
    "\n",
    "example_img = np.array([0.0, 0.2, 0.7, 0.2, 1.0])\n",
    "print(binariser(example_img, 0.6))\n",
    "I_b = binariser(I_p, 0.6)\n",
    "plt.imshow(I_b)\n",
    "plt.colorbar()\n",
    "plt.show()\n",
    "print(I_b)\n"
   ]
  },
  {
   "cell_type": "markdown",
   "id": "e0d8a9b9",
   "metadata": {},
   "source": [
    "Vous devriez constater deux erreurs:\n",
    " - les vaisseaux émergeant du disque optique forment des trous dans sa segmentation; \n",
    " - un artefact est détecté à tord dans le coin supérieur droit de l'image. \n",
    " \n",
    "On va corriger ces deux erreurs avec une ouverture et une fermeture (cf. [skmorph.binary_opening](https://scikit-image.org/docs/dev/api/skimage.morphology.html#skimage.morphology.binary_opening) et [skmorph.binary_closing](https://scikit-image.org/docs/dev/api/skimage.morphology.html#skimage.morphology.binary_closing))\n",
    "\n",
    "**6a.** Refermez les trous causés par les vaisseaux à l'aide de l'opération morphologique adéquate. Vous devrez choisir un élément structurant adapté. \n",
    "\n",
    "**6b.** Effacez l'artefact supérieur droit sans altérer la segmentation du disque avec l'autre opération morphlogique. Une fois encore, choisissez un élément structurant adapté."
   ]
  },
  {
   "cell_type": "code",
   "execution_count": null,
   "id": "9f282b53",
   "metadata": {},
   "outputs": [],
   "source": []
  },
  {
   "cell_type": "markdown",
   "id": "b01f1542",
   "metadata": {},
   "source": [
    "On souhaite faire une estimation rapide du rayon et du centre du disque optique tel qu'il a été segmenté aux questions précédentes.\n",
    "\n",
    "**7.** En effectuant des érosions successives de la segmentation par des disques de rayon 1,2,3... jusqu'à ce que la segmentation disparaisse, déterminez le rayon et la position du centre du disque optique.\n"
   ]
  },
  {
   "cell_type": "code",
   "execution_count": 15,
   "id": "f873edf5",
   "metadata": {},
   "outputs": [],
   "source": [
    "# Astuce: np.any(I) renvoie vrai si tous les pixels de I valent 0\n",
    "#         y,x = np.where(I) renvoie les coordonées des pixels différents de 0 de I."
   ]
  }
 ],
 "metadata": {
  "kernelspec": {
   "display_name": "Python 3",
   "language": "python",
   "name": "python3"
  },
  "language_info": {
   "codemirror_mode": {
    "name": "ipython",
    "version": 3
   },
   "file_extension": ".py",
   "mimetype": "text/x-python",
   "name": "python",
   "nbconvert_exporter": "python",
   "pygments_lexer": "ipython3",
   "version": "3.10.11"
  }
 },
 "nbformat": 4,
 "nbformat_minor": 5
}
