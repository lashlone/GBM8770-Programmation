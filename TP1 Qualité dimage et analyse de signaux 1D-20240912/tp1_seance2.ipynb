{
 "cells": [
  {
   "cell_type": "markdown",
   "id": "5096bfcc",
   "metadata": {},
   "source": [
    "# TP 1 - Séance 2\n",
    "## Rehaussement d'image\n",
    "\n",
    "Équipe #0\n",
    "- Nom, Prénom (Matricule)\n",
    "- Nom, Prénom (Matricule)"
   ]
  },
  {
   "cell_type": "code",
   "execution_count": 1,
   "id": "6f47c9d0",
   "metadata": {},
   "outputs": [],
   "source": [
    "# Importe les modules qui seront utilisés dans le laboratoire.\n",
    "import numpy as np\n",
    "from IPython.display import clear_output\n",
    "import matplotlib.pyplot as plt\n",
    "from matplotlib.pyplot import imread, imsave\n",
    "from scipy.ndimage import convolve\n",
    "import skimage.filters as skfilters\n",
    "import skimage.morphology as skmorph\n",
    "\n",
    "from cv2 import cvtColor, COLOR_RGB2GRAY\n",
    "from cv2 import imread as cv2Imread\n",
    "\n",
    "%matplotlib inline\n",
    "# Étend la taille des figures\n",
    "plt.rcParams[\"figure.figsize\"] = (12, 7)"
   ]
  },
  {
   "cell_type": "markdown",
   "id": "7dc1147c",
   "metadata": {},
   "source": [
    "# Exercice III: Prétraitement d'images grayscale\n",
    "\n",
    "<font color='red'> Dans toutes les questions de cet exercice, prenez soin de spécifier les bornes des intensités lors de l'affichage. Voir énoncé en pdf. \\\n",
    "Tous les fichiers et les images dont vous aurez besoin pour cette séance sont dans le dossier 'fichiers_seance_2'. Vos chemins devront être ajustés en conséquence. \n",
    "</font>"
   ]
  },
  {
   "cell_type": "markdown",
   "id": "15989789",
   "metadata": {},
   "source": [
    "## Égalisation d'histogramme"
   ]
  },
  {
   "cell_type": "markdown",
   "id": "b3edc922",
   "metadata": {},
   "source": [
    "**1.** Ouvrez, convertissez en valeurs entières et affichez l'image ```radio_thoracique.png```.\n",
    "Prenez soin de spécifier les bornes des intensités lors de l'affichage."
   ]
  },
  {
   "cell_type": "code",
   "execution_count": null,
   "id": "cfe7b340",
   "metadata": {},
   "outputs": [],
   "source": []
  },
  {
   "cell_type": "markdown",
   "id": "76543633",
   "metadata": {},
   "source": [
    "**2.** À l'aide de [np.histogram](https://numpy.org/doc/stable/reference/generated/numpy.histogram.html), calculez puis affichez son histogramme.  \n",
    "Pour gagner du temps aux questions suivantes, vous pouvez définir une fonction qui effectue ces deux opérations."
   ]
  },
  {
   "cell_type": "code",
   "execution_count": null,
   "id": "9620e8d9",
   "metadata": {},
   "outputs": [],
   "source": []
  },
  {
   "cell_type": "markdown",
   "id": "5e76fbc4",
   "metadata": {},
   "source": [
    "**3a.** Complétez la fonction ```equalize_histogram(img)``` qui effectue l'égalisation d'histogramme d'une image `img` et renvoie l'image égalisée."
   ]
  },
  {
   "cell_type": "code",
   "execution_count": 2,
   "id": "33466cab",
   "metadata": {},
   "outputs": [],
   "source": [
    "def equalize_histogram(img):\n",
    "    ...\n",
    "    return\n",
    "    # Astuces: pour transformer l'intensité de chaque pixel d'une image I selon un mapping T\n",
    "    # (c'est-à-dire pour calculer Ieq[i,j] = T[I[i,j]] pour tous les i et j), pas besoin de boucle:\n",
    "    # il suffit de faire: Ieq = T[I]"
   ]
  },
  {
   "cell_type": "markdown",
   "id": "5ec548f2",
   "metadata": {},
   "source": [
    "**3b.** Comparez l'image et son histogramme avant et après l'égalisation. Prenez soin de spécifier les bornes des intensités lors de l'affichage. Que constatez vous? Quel impact a l'égalisation sur le contraste de l'image?"
   ]
  },
  {
   "cell_type": "code",
   "execution_count": null,
   "id": "54ce83cf",
   "metadata": {},
   "outputs": [],
   "source": []
  },
  {
   "cell_type": "markdown",
   "id": "68bc8d1d",
   "metadata": {},
   "source": [
    "**4.** Effectuez les mêmes opérations qu'à la question **3b** (égalisation d'histogramme puis affichage de l'image et l'histograme avant et après l'égalisation) sur l'image `fundus_mauvais_contraste`. Que constatez-vous ? Que proposeriez-vous afin d'améliorer le contraste et la visibilité des structures de l'oeil dans cette image ?"
   ]
  },
  {
   "cell_type": "code",
   "execution_count": 3,
   "id": "a42ae416",
   "metadata": {},
   "outputs": [
    {
     "data": {
      "text/plain": [
       "Ellipsis"
      ]
     },
     "execution_count": 3,
     "metadata": {},
     "output_type": "execute_result"
    }
   ],
   "source": [
    "# l'image fournie est une image couleur à 3 canaux. Pour appliquer les mêmes fonctions que décrites plus haut, on doit\n",
    "# transformer l'image couleur en image à tons de gris. Utilisez les lignes de code fournies à cet effet.\n",
    "image = cv2Imread(\"fundus_mauvais_contraste.png\")\n",
    "gray = cvtColor(image, COLOR_RGB2GRAY)\n",
    "\n",
    "..."
   ]
  },
  {
   "cell_type": "markdown",
   "id": "8d3439ec",
   "metadata": {},
   "source": [
    "## Filtrage High-Boost\n",
    "\n",
    "**5.** Ouvrez l'image ```angiography.jpg```. Convertissez l'image en valeurs flottantes (normalisez par la valeur maximale) et conservez uniquement le premier canal de cette image. Affichez l'image résultante. "
   ]
  },
  {
   "cell_type": "code",
   "execution_count": null,
   "id": "92c5f091",
   "metadata": {},
   "outputs": [],
   "source": []
  },
  {
   "cell_type": "markdown",
   "id": "258f1385",
   "metadata": {},
   "source": [
    "**6.** En utilisant la fonction [convolve](https://docs.scipy.org/doc/scipy/reference/generated/scipy.ndimage.convolve.html), calculez la convolution de l'image angiographique avec une filtre gaussien de taille $3 \\times 3$: \n",
    "\n",
    "$W_{Gaussienne3}\\ =\\ \\dfrac{1}{16}\\ \\begin{bmatrix} 1 & 2 & 1 \\\\ 2 & 4 & 2 \\\\ 1 & 2 & 1 \\end{bmatrix} $\n",
    "\n",
    "Affichez côte à côte l'image angiographique et le résultat de la convolution.\n",
    "\n",
    "_N'hésitez pas à augmenter la taille de la figure pour mieux observer les images.)_"
   ]
  },
  {
   "cell_type": "code",
   "execution_count": 4,
   "id": "0fd83e87",
   "metadata": {},
   "outputs": [],
   "source": [
    "# On vous donne le masque de convolution:\n",
    "Wgaussienne3 = np.array([[1, 2, 1], [2, 4, 2], [1, 2, 1]]) / 16"
   ]
  },
  {
   "cell_type": "markdown",
   "id": "e7970ae4",
   "metadata": {},
   "source": [
    "**7a.** Effectuez la même opération (convolution et affichage) avec une Gaussienne de taille 7x7: \n",
    "\n",
    "$W_{Gaussienne7}\\ =\\ \\dfrac{1}{1115}\\ \n",
    "\\begin{bmatrix} \n",
    " 1 &  4 &  7 & 10 &  7 &  4 &  1 \\\\\n",
    " 4 & 12 & 26 & 33 & 26 & 12 &  4 \\\\\n",
    " 7 & 26 & 55 & 71 & 55 & 26 &  7 \\\\\n",
    "10 & 33 & 71 & 91 & 71 & 33 & 10 \\\\\n",
    " 7 & 26 & 55 & 71 & 55 & 26 &  7 \\\\\n",
    " 4 & 12 & 26 & 33 & 26 & 12 &  4 \\\\\n",
    " 1 &  4 &  7 & 10 &  7 &  4 &  1 \\\\\n",
    "\\end{bmatrix} $\n"
   ]
  },
  {
   "cell_type": "code",
   "execution_count": 5,
   "id": "393c9ea3",
   "metadata": {},
   "outputs": [],
   "source": [
    "# On vous donne le masque de convolution:\n",
    "Wgaussienne7 = (\n",
    "    np.array(\n",
    "        [\n",
    "            [1, 4, 7, 10, 7, 4, 1],\n",
    "            [4, 12, 26, 33, 26, 12, 4],\n",
    "            [7, 26, 55, 71, 55, 26, 7],\n",
    "            [10, 33, 71, 91, 71, 33, 10],\n",
    "            [7, 26, 55, 71, 55, 26, 7],\n",
    "            [4, 12, 26, 33, 26, 12, 4],\n",
    "            [1, 4, 7, 10, 7, 4, 1],\n",
    "        ]\n",
    "    )\n",
    "    / 1115\n",
    ")"
   ]
  },
  {
   "cell_type": "markdown",
   "id": "48a34974",
   "metadata": {},
   "source": [
    "**7b.** Qu'observez vous lorsque l'écart-type de la gaussienne augmente ?  Quel est le type de ces deux filtres gaussiens?"
   ]
  },
  {
   "cell_type": "code",
   "execution_count": null,
   "id": "7c8f9aa4",
   "metadata": {},
   "outputs": [],
   "source": []
  },
  {
   "cell_type": "markdown",
   "id": "3ec43806",
   "metadata": {},
   "source": [
    "**8a.** Calculez et affichez le Laplacien de l'image angiographique en la convoluant avec:\n",
    "\n",
    "$W_{Laplacien}\\ =\\\n",
    "\\begin{bmatrix} \n",
    " -1 & -1 & -1 \\\\\n",
    " -1 & 8 & -1 \\\\\n",
    " -1 & -1 & -1 \\\\\n",
    "\\end{bmatrix} $\n",
    "\n",
    "_(Attention: le Laplacien d'une image contient des valeurs négatives, pour les visualiser correctement les bornes d'affichages doivent être -1 et 1!)_"
   ]
  },
  {
   "cell_type": "code",
   "execution_count": 6,
   "id": "010eaa59",
   "metadata": {},
   "outputs": [],
   "source": [
    "# On vous donne le masque de convolution:\n",
    "Wlaplacien = np.array([[-1, -1, -1], [-1, 8, -1], [-1, -1, -1]])"
   ]
  },
  {
   "cell_type": "markdown",
   "id": "6b3bdfc1",
   "metadata": {},
   "source": [
    "**8b.** Quel est le type de ce filtre?"
   ]
  },
  {
   "cell_type": "code",
   "execution_count": null,
   "id": "6f1f2466",
   "metadata": {},
   "outputs": [],
   "source": []
  },
  {
   "cell_type": "markdown",
   "id": "27abd1e4",
   "metadata": {},
   "source": [
    "On rappelle que le filtrage high-boost est défini par:  \n",
    "  $I_{g} =  I * W_{gaussienne3}$  \n",
    "  $I_{HighBoost} = I + k \\times (I_g * W_{laplacien})$  \n",
    "  (avec $I$ l'image originale, $I_{HighBoost}$ l'image filtrée, et $I* _{gaussienne3}$ la convolution entre l'image et le masque gaussien de taille $3 \\times 3$.)\n",
    "\n",
    "**9a.** Implémentez la fonction `high_boost(img, k)` qui prend en paramètre l'image $I$ et $k$ et renvoie l'image après le filtrage High Boost. Affichez le résultat pour $k=0$, $k=1$ et $k=2$.  (Limitez l'affichage entre 0 et 1!)\n"
   ]
  },
  {
   "cell_type": "code",
   "execution_count": null,
   "id": "9dedfff5",
   "metadata": {},
   "outputs": [],
   "source": []
  },
  {
   "cell_type": "markdown",
   "id": "e77d55c5",
   "metadata": {},
   "source": [
    "**9b.** Discutez de l'impact du facteur $k$ sur la lisibilité de l'image (et donc la qualité du réhaussement)."
   ]
  },
  {
   "cell_type": "code",
   "execution_count": null,
   "id": "cec1fccf",
   "metadata": {},
   "outputs": [],
   "source": []
  },
  {
   "cell_type": "markdown",
   "id": "54fd7660",
   "metadata": {},
   "source": [
    "**9c.** Dans ce filtrage, pourquoi calculer le laplacien sur $I_g$ plutôt que sur $I$ directement?  \n",
    "_(Appuyez-vous sur vos observations de la question 7b.)_"
   ]
  },
  {
   "cell_type": "code",
   "execution_count": null,
   "id": "7bc14637",
   "metadata": {},
   "outputs": [],
   "source": []
  },
  {
   "cell_type": "markdown",
   "id": "839dde86",
   "metadata": {},
   "source": [
    "# Exercice IV: Filtrage Médian et Morphologique\n",
    "\n",
    "Cet exercice met en oeuvre des filtrages médians et morphologiques qui sont implémentés dans les modules pythons:   \n",
    "```skimage.morphology``` et ```skimage.filters``` importé sous les noms: ```skmorph``` et ```skfilters``` (déjà importés dans la première cellule du notebook)."
   ]
  },
  {
   "cell_type": "markdown",
   "id": "2a74d2e6",
   "metadata": {},
   "source": [
    "## Élimination du bruit par filtrage médian"
   ]
  },
  {
   "cell_type": "markdown",
   "id": "cb8cbcb5",
   "metadata": {},
   "source": [
    "**1a.** Chargez (sans conversion en intensités entières) et affichez l'image ```fundus_bruit.png```."
   ]
  },
  {
   "cell_type": "code",
   "execution_count": null,
   "id": "aa841a6e",
   "metadata": {},
   "outputs": [],
   "source": []
  },
  {
   "cell_type": "markdown",
   "id": "8a0179f5",
   "metadata": {},
   "source": [
    "**1b.** Quel est le nom du bruit qui déteriore cette image de la rétine?"
   ]
  },
  {
   "cell_type": "code",
   "execution_count": null,
   "id": "97dd573e",
   "metadata": {},
   "outputs": [],
   "source": []
  },
  {
   "cell_type": "markdown",
   "id": "3c88fd7b",
   "metadata": {},
   "source": [
    "Pour la suite de l'exercice nous ne nous intéresserons qu'au canal vert de l'image.\n",
    "\n",
    "**2.** Filtrez le bruit identifié à la question précédente à l'aide d'un filtrage médian [skfilters.median](https://scikit-image.org/docs/dev/api/skimage.filters.html#skimage.filters.median). Utilisez un élément structurant sous forme d'un disque (voir [skmorph.disk](https://scikit-image.org/docs/dev/api/skimage.morphology.html#skimage.morphology.disk)). Trouvez un rayon de disque approprié pour le filtrage. Affichez côte à côte le canal vert de l'image avant et après le filtrage."
   ]
  },
  {
   "cell_type": "code",
   "execution_count": null,
   "id": "74487276",
   "metadata": {},
   "outputs": [],
   "source": []
  },
  {
   "cell_type": "markdown",
   "id": "678c9464",
   "metadata": {},
   "source": [
    "**3.** Filtrez le bruit identifié à la question précédente avec les filtres gaussiens utilisés à l'exercice précédent (convolution de l'image avec un filtre gaussien). Le filtrage gaussien présenté dans l'exercice I aurait-il été un meilleur ou moins bon choix pour cette tâche ? Pourquoi ?"
   ]
  },
  {
   "cell_type": "code",
   "execution_count": null,
   "id": "2fadd4be",
   "metadata": {},
   "outputs": [],
   "source": []
  },
  {
   "cell_type": "markdown",
   "id": "7cc7789f",
   "metadata": {},
   "source": [
    "Les traitements présentés dans les deux sections suivantes seront appliqués sur **la version filtrée du canal vert** de l'image notée $I_V$."
   ]
  },
  {
   "cell_type": "markdown",
   "id": "d93beed8",
   "metadata": {},
   "source": [
    "## Réhaussement des vaisseaux"
   ]
  },
  {
   "cell_type": "markdown",
   "id": "42355b29",
   "metadata": {},
   "source": [
    "Afin de simplifier la détection des vaisseaux sur les images de la rétine, un prétraitement très utilisé consiste à effectuer une correction d'illumination locale. En définissant $F_{m}$ un filtre médian avec un large élément structurant (un disque de rayon 12), l'image prétraitée $I_P$ est calculée par: $I_P = I_V - F_m(I_V)$.\n",
    "\n",
    "**4a.** Calculez et affichez le résultat du filtrage médian $F_{m}(I_V)$ et du prétraitement $I_P$. Cette correction d'illumination est-elle efficace?\n"
   ]
  },
  {
   "cell_type": "code",
   "execution_count": null,
   "id": "2035a531",
   "metadata": {},
   "outputs": [],
   "source": []
  },
  {
   "cell_type": "markdown",
   "id": "a53032b1",
   "metadata": {},
   "source": [
    "**4b.** Les vaisseaux sont-ils un contenu hautes ou basses fréquences spatiales? Même question pour le résultat du filtrage médian $F_{m}(I_V)$."
   ]
  },
  {
   "cell_type": "code",
   "execution_count": null,
   "id": "3b5c9aca",
   "metadata": {},
   "outputs": [],
   "source": []
  },
  {
   "cell_type": "markdown",
   "id": "c9457739",
   "metadata": {},
   "source": [
    "## Segmentation du disque optique\n",
    "\n",
    "On se propose de segmenter le disque optique (la tête du nerf optique apparaissant en clair sur l'image et dont émerge les vaisseaux) avec un seuil et des opérations morphologiqes."
   ]
  },
  {
   "cell_type": "markdown",
   "id": "34654466",
   "metadata": {},
   "source": [
    "**5a.** Implémentez la fonction ```binariser(img, seuil)``` qui prend en paramètre une image et un seuil et qui renvoie l'image binarisée: où tous les pixels inférieurs au seuil valent $0$ et tous ceux égaux ou supérieurs au seuil valent $1$.\n",
    "\n",
    "**5b.** Calculez et affichez l'image $I_V$ binarisée avec un seuil de $0.6$. On notera cette image binarisé $I_B$."
   ]
  },
  {
   "cell_type": "code",
   "execution_count": 7,
   "id": "48a08f42",
   "metadata": {},
   "outputs": [],
   "source": [
    "def binariser(img, seuil):\n",
    "    ...\n",
    "    return"
   ]
  },
  {
   "cell_type": "markdown",
   "id": "e0d8a9b9",
   "metadata": {},
   "source": [
    "Vous devriez constater deux erreurs:\n",
    " - les vaisseaux émergeant du disque optique forment des trous dans sa segmentation; \n",
    " - un artefact est détecté à tord dans le coin supérieur droit de l'image. \n",
    " \n",
    "On va corriger ces deux erreurs avec une ouverture et une fermeture (cf. [skmorph.binary_opening](https://scikit-image.org/docs/dev/api/skimage.morphology.html#skimage.morphology.binary_opening) et [skmorph.binary_closing](https://scikit-image.org/docs/dev/api/skimage.morphology.html#skimage.morphology.binary_closing))\n",
    "\n",
    "**6a.** Refermez les trous causés par les vaisseaux à l'aide de l'opération morphologique adéquate. Vous devrez choisir un élément structurant adapté. \n",
    "\n",
    "**6b.** Effacez l'artefact supérieur droit sans altérer la segmentation du disque avec l'autre opération morphlogique. Une fois encore, choisissez un élément structurant adapté."
   ]
  },
  {
   "cell_type": "code",
   "execution_count": null,
   "id": "9f282b53",
   "metadata": {},
   "outputs": [],
   "source": []
  },
  {
   "cell_type": "markdown",
   "id": "b01f1542",
   "metadata": {},
   "source": [
    "On souhaite faire une estimation rapide du rayon et du centre du disque optique tel qu'il a été segmenté aux questions précédentes.\n",
    "\n",
    "**7.** En effectuant des érosions successives de la segmentation par des disques de rayon 1,2,3... jusqu'à ce que la segmentation disparaisse, déterminez le rayon et la position du centre du disque optique.\n"
   ]
  },
  {
   "cell_type": "code",
   "execution_count": 8,
   "id": "f873edf5",
   "metadata": {},
   "outputs": [],
   "source": [
    "# Astuce: np.any(I) renvoie vrai si tous les pixels de I valent 0\n",
    "#         y,x = np.where(I) renvoie les coordonées des pixels différents de 0 de I."
   ]
  }
 ],
 "metadata": {
  "kernelspec": {
   "display_name": "Python (tpGBM)",
   "language": "python",
   "name": "tpgbm"
  },
  "language_info": {
   "codemirror_mode": {
    "name": "ipython",
    "version": 3
   },
   "file_extension": ".py",
   "mimetype": "text/x-python",
   "name": "python",
   "nbconvert_exporter": "python",
   "pygments_lexer": "ipython3",
   "version": "3.8.17"
  }
 },
 "nbformat": 4,
 "nbformat_minor": 5
}
